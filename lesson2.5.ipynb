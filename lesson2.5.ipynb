{
 "cells": [
  {
   "cell_type": "markdown",
   "metadata": {},
   "source": [
    "# Adult Income"
   ]
  },
  {
   "cell_type": "code",
   "execution_count": 46,
   "metadata": {
    "collapsed": true
   },
   "outputs": [],
   "source": [
    "import pandas as pd\n",
    "import numpy as np\n",
    "\n",
    "# metrics\n",
    "from sklearn.metrics import accuracy_score\n",
    "from sklearn.metrics import recall_score\n",
    "from sklearn.metrics import precision_score\n",
    "from sklearn.datasets import make_classification\n",
    "\n",
    "# walidation\n",
    "from sklearn.model_selection import train_test_split\n",
    "from sklearn.model_selection import KFold, StratifiedKFold\n",
    "\n",
    "# models\n",
    "from sklearn.dummy import DummyClassifier\n",
    "from sklearn.linear_model import LogisticRegression\n",
    "from sklearn.ensemble import RandomForestClassifier\n",
    "\n",
    "import xgboost as xgb\n",
    "import lightgbm as lgb\n",
    "\n",
    "import warnings\n",
    "with warnings.catch_warnings():\n",
    "    warnings.filterwarnings('ignore', r\"compiletime version 3.5 of module '_catboost' does not match runtime version 3.6\")\n",
    "\n",
    "    import catboost as ctb\n",
    "\n",
    "from functools import partial\n",
    "from hyperopt import hp\n",
    "from hyperopt import hp, fmin, tpe, STATUS_OK, Trials\n",
    "\n",
    "import matplotlib.pyplot as plt\n",
    "import seaborn as sns\n",
    "\n",
    "import helper as h \n",
    "\n",
    "%matplotlib inline"
   ]
  },
  {
   "cell_type": "code",
   "execution_count": 47,
   "metadata": {
    "collapsed": false
   },
   "outputs": [
    {
     "name": "stdout",
     "output_type": "stream",
     "text": [
      "CPU times: user 41.7 ms, sys: 4.25 ms, total: 46 ms\n",
      "Wall time: 44.7 ms\n"
     ]
    }
   ],
   "source": [
    "%time train = pd.read_hdf('../input/train.adult.h5')"
   ]
  },
  {
   "cell_type": "markdown",
   "metadata": {
    "collapsed": true
   },
   "source": [
    "## scanning information, cleaning data (missing, not-numeric, constants?) checking correlations, visualization"
   ]
  },
  {
   "cell_type": "code",
   "execution_count": 48,
   "metadata": {
    "collapsed": false
   },
   "outputs": [
    {
     "data": {
      "text/plain": [
       "Index(['Age', 'Workclass', 'fnlwgt', 'Education', 'Education-Num',\n",
       "       'Martial Status', 'Occupation', 'Relationship', 'Race', 'Sex',\n",
       "       'Capital Gain', 'Capital Loss', 'Hours per week', 'Country', 'Target'],\n",
       "      dtype='object')"
      ]
     },
     "execution_count": 48,
     "metadata": {},
     "output_type": "execute_result"
    }
   ],
   "source": [
    "train.keys()"
   ]
  },
  {
   "cell_type": "code",
   "execution_count": 49,
   "metadata": {
    "collapsed": false
   },
   "outputs": [
    {
     "name": "stdout",
     "output_type": "stream",
     "text": [
      "<class 'pandas.core.frame.DataFrame'>\n",
      "Int64Index: 32561 entries, 0 to 32560\n",
      "Data columns (total 15 columns):\n",
      "Age               32561 non-null int8\n",
      "Workclass         30725 non-null object\n",
      "fnlwgt            32561 non-null int64\n",
      "Education         32561 non-null object\n",
      "Education-Num     32561 non-null int64\n",
      "Martial Status    32561 non-null object\n",
      "Occupation        30718 non-null object\n",
      "Relationship      32561 non-null object\n",
      "Race              32561 non-null object\n",
      "Sex               32561 non-null bool\n",
      "Capital Gain      32561 non-null int16\n",
      "Capital Loss      32561 non-null int16\n",
      "Hours per week    32561 non-null int8\n",
      "Country           31978 non-null object\n",
      "Target            32561 non-null object\n",
      "dtypes: bool(1), int16(2), int64(2), int8(2), object(8)\n",
      "memory usage: 2.9+ MB\n"
     ]
    }
   ],
   "source": [
    "train.info()"
   ]
  },
  {
   "cell_type": "code",
   "execution_count": 50,
   "metadata": {
    "collapsed": false
   },
   "outputs": [
    {
     "data": {
      "text/html": [
       "<div>\n",
       "<style scoped>\n",
       "    .dataframe tbody tr th:only-of-type {\n",
       "        vertical-align: middle;\n",
       "    }\n",
       "\n",
       "    .dataframe tbody tr th {\n",
       "        vertical-align: top;\n",
       "    }\n",
       "\n",
       "    .dataframe thead th {\n",
       "        text-align: right;\n",
       "    }\n",
       "</style>\n",
       "<table border=\"1\" class=\"dataframe\">\n",
       "  <thead>\n",
       "    <tr style=\"text-align: right;\">\n",
       "      <th></th>\n",
       "      <th>Age</th>\n",
       "      <th>Workclass</th>\n",
       "      <th>fnlwgt</th>\n",
       "      <th>Education</th>\n",
       "      <th>Education-Num</th>\n",
       "      <th>Martial Status</th>\n",
       "      <th>Occupation</th>\n",
       "      <th>Relationship</th>\n",
       "      <th>Race</th>\n",
       "      <th>Sex</th>\n",
       "      <th>Capital Gain</th>\n",
       "      <th>Capital Loss</th>\n",
       "      <th>Hours per week</th>\n",
       "      <th>Country</th>\n",
       "      <th>Target</th>\n",
       "    </tr>\n",
       "  </thead>\n",
       "  <tbody>\n",
       "    <tr>\n",
       "      <th>27718</th>\n",
       "      <td>42</td>\n",
       "      <td>Private</td>\n",
       "      <td>303388</td>\n",
       "      <td>Some-college</td>\n",
       "      <td>10</td>\n",
       "      <td>Married-civ-spouse</td>\n",
       "      <td>Exec-managerial</td>\n",
       "      <td>Husband</td>\n",
       "      <td>White</td>\n",
       "      <td>True</td>\n",
       "      <td>0</td>\n",
       "      <td>0</td>\n",
       "      <td>65</td>\n",
       "      <td>United-States</td>\n",
       "      <td>&lt;=50K</td>\n",
       "    </tr>\n",
       "    <tr>\n",
       "      <th>31131</th>\n",
       "      <td>17</td>\n",
       "      <td>Private</td>\n",
       "      <td>277541</td>\n",
       "      <td>11th</td>\n",
       "      <td>7</td>\n",
       "      <td>Never-married</td>\n",
       "      <td>Sales</td>\n",
       "      <td>Own-child</td>\n",
       "      <td>White</td>\n",
       "      <td>True</td>\n",
       "      <td>0</td>\n",
       "      <td>0</td>\n",
       "      <td>5</td>\n",
       "      <td>United-States</td>\n",
       "      <td>&lt;=50K</td>\n",
       "    </tr>\n",
       "    <tr>\n",
       "      <th>19826</th>\n",
       "      <td>21</td>\n",
       "      <td>Private</td>\n",
       "      <td>82497</td>\n",
       "      <td>Some-college</td>\n",
       "      <td>10</td>\n",
       "      <td>Never-married</td>\n",
       "      <td>Other-service</td>\n",
       "      <td>Not-in-family</td>\n",
       "      <td>White</td>\n",
       "      <td>False</td>\n",
       "      <td>0</td>\n",
       "      <td>0</td>\n",
       "      <td>30</td>\n",
       "      <td>United-States</td>\n",
       "      <td>&lt;=50K</td>\n",
       "    </tr>\n",
       "    <tr>\n",
       "      <th>16552</th>\n",
       "      <td>25</td>\n",
       "      <td>Private</td>\n",
       "      <td>295108</td>\n",
       "      <td>HS-grad</td>\n",
       "      <td>9</td>\n",
       "      <td>Never-married</td>\n",
       "      <td>Handlers-cleaners</td>\n",
       "      <td>Unmarried</td>\n",
       "      <td>Black</td>\n",
       "      <td>False</td>\n",
       "      <td>0</td>\n",
       "      <td>0</td>\n",
       "      <td>25</td>\n",
       "      <td>United-States</td>\n",
       "      <td>&lt;=50K</td>\n",
       "    </tr>\n",
       "    <tr>\n",
       "      <th>16737</th>\n",
       "      <td>41</td>\n",
       "      <td>Private</td>\n",
       "      <td>185267</td>\n",
       "      <td>Bachelors</td>\n",
       "      <td>13</td>\n",
       "      <td>Married-civ-spouse</td>\n",
       "      <td>Prof-specialty</td>\n",
       "      <td>Husband</td>\n",
       "      <td>White</td>\n",
       "      <td>True</td>\n",
       "      <td>0</td>\n",
       "      <td>0</td>\n",
       "      <td>40</td>\n",
       "      <td>United-States</td>\n",
       "      <td>&lt;=50K</td>\n",
       "    </tr>\n",
       "  </tbody>\n",
       "</table>\n",
       "</div>"
      ],
      "text/plain": [
       "       Age Workclass  fnlwgt     Education  Education-Num      Martial Status  \\\n",
       "27718   42   Private  303388  Some-college             10  Married-civ-spouse   \n",
       "31131   17   Private  277541          11th              7       Never-married   \n",
       "19826   21   Private   82497  Some-college             10       Never-married   \n",
       "16552   25   Private  295108       HS-grad              9       Never-married   \n",
       "16737   41   Private  185267     Bachelors             13  Married-civ-spouse   \n",
       "\n",
       "              Occupation   Relationship   Race    Sex  Capital Gain  \\\n",
       "27718    Exec-managerial        Husband  White   True             0   \n",
       "31131              Sales      Own-child  White   True             0   \n",
       "19826      Other-service  Not-in-family  White  False             0   \n",
       "16552  Handlers-cleaners      Unmarried  Black  False             0   \n",
       "16737     Prof-specialty        Husband  White   True             0   \n",
       "\n",
       "       Capital Loss  Hours per week        Country Target  \n",
       "27718             0              65  United-States  <=50K  \n",
       "31131             0               5  United-States  <=50K  \n",
       "19826             0              30  United-States  <=50K  \n",
       "16552             0              25  United-States  <=50K  \n",
       "16737             0              40  United-States  <=50K  "
      ]
     },
     "execution_count": 50,
     "metadata": {},
     "output_type": "execute_result"
    }
   ],
   "source": [
    "train.sample(5)"
   ]
  },
  {
   "cell_type": "code",
   "execution_count": 51,
   "metadata": {
    "collapsed": false
   },
   "outputs": [
    {
     "name": "stdout",
     "output_type": "stream",
     "text": [
      "('Workclass', 1836)\n",
      "('Occupation', 1843)\n",
      "('Country', 583)\n"
     ]
    }
   ],
   "source": [
    "def check_missing():\n",
    "    for column in train.columns:\n",
    "        missing = column, train[column].isnull().sum()\n",
    "        \n",
    "        if missing[1] == 0: continue\n",
    "\n",
    "        print(missing)\n",
    "        \n",
    "check_missing()"
   ]
  },
  {
   "cell_type": "code",
   "execution_count": 52,
   "metadata": {
    "collapsed": true
   },
   "outputs": [],
   "source": [
    "train = train.fillna(-1)"
   ]
  },
  {
   "cell_type": "code",
   "execution_count": 53,
   "metadata": {
    "collapsed": true
   },
   "outputs": [],
   "source": [
    "check_missing()"
   ]
  },
  {
   "cell_type": "code",
   "execution_count": 54,
   "metadata": {
    "collapsed": false
   },
   "outputs": [
    {
     "data": {
      "text/plain": [
       "[]"
      ]
     },
     "execution_count": 54,
     "metadata": {},
     "output_type": "execute_result"
    }
   ],
   "source": [
    "def if_constants():\n",
    "    constants = []\n",
    "    for column in train.columns:\n",
    "        if train[column].nunique() == 1:\n",
    "            constants.append(column)\n",
    "    return constants\n",
    "if_constants()"
   ]
  },
  {
   "cell_type": "code",
   "execution_count": 55,
   "metadata": {
    "collapsed": false
   },
   "outputs": [
    {
     "data": {
      "text/plain": [
       "array(['<=50K', '>50K'], dtype=object)"
      ]
     },
     "execution_count": 55,
     "metadata": {},
     "output_type": "execute_result"
    }
   ],
   "source": [
    "train.Target.unique()"
   ]
  },
  {
   "cell_type": "code",
   "execution_count": 56,
   "metadata": {
    "collapsed": true
   },
   "outputs": [],
   "source": [
    "train['Target_Cat'] = (train['Target'] != '<=50K').astype('int8')"
   ]
  },
  {
   "cell_type": "code",
   "execution_count": 57,
   "metadata": {
    "collapsed": false
   },
   "outputs": [
    {
     "data": {
      "text/html": [
       "<div>\n",
       "<style scoped>\n",
       "    .dataframe tbody tr th:only-of-type {\n",
       "        vertical-align: middle;\n",
       "    }\n",
       "\n",
       "    .dataframe tbody tr th {\n",
       "        vertical-align: top;\n",
       "    }\n",
       "\n",
       "    .dataframe thead th {\n",
       "        text-align: right;\n",
       "    }\n",
       "</style>\n",
       "<table border=\"1\" class=\"dataframe\">\n",
       "  <thead>\n",
       "    <tr style=\"text-align: right;\">\n",
       "      <th></th>\n",
       "      <th>Age</th>\n",
       "      <th>Workclass</th>\n",
       "      <th>fnlwgt</th>\n",
       "      <th>Education</th>\n",
       "      <th>Education-Num</th>\n",
       "      <th>Martial Status</th>\n",
       "      <th>Occupation</th>\n",
       "      <th>Relationship</th>\n",
       "      <th>Race</th>\n",
       "      <th>Sex</th>\n",
       "      <th>Capital Gain</th>\n",
       "      <th>Capital Loss</th>\n",
       "      <th>Hours per week</th>\n",
       "      <th>Country</th>\n",
       "      <th>Target</th>\n",
       "      <th>Target_Cat</th>\n",
       "    </tr>\n",
       "  </thead>\n",
       "  <tbody>\n",
       "    <tr>\n",
       "      <th>27497</th>\n",
       "      <td>76</td>\n",
       "      <td>Self-emp-not-inc</td>\n",
       "      <td>117169</td>\n",
       "      <td>7th-8th</td>\n",
       "      <td>4</td>\n",
       "      <td>Never-married</td>\n",
       "      <td>Farming-fishing</td>\n",
       "      <td>Not-in-family</td>\n",
       "      <td>White</td>\n",
       "      <td>True</td>\n",
       "      <td>0</td>\n",
       "      <td>0</td>\n",
       "      <td>30</td>\n",
       "      <td>United-States</td>\n",
       "      <td>&lt;=50K</td>\n",
       "      <td>0</td>\n",
       "    </tr>\n",
       "  </tbody>\n",
       "</table>\n",
       "</div>"
      ],
      "text/plain": [
       "       Age         Workclass  fnlwgt Education  Education-Num Martial Status  \\\n",
       "27497   76  Self-emp-not-inc  117169   7th-8th              4  Never-married   \n",
       "\n",
       "            Occupation   Relationship   Race   Sex  Capital Gain  \\\n",
       "27497  Farming-fishing  Not-in-family  White  True             0   \n",
       "\n",
       "       Capital Loss  Hours per week        Country Target  Target_Cat  \n",
       "27497             0              30  United-States  <=50K           0  "
      ]
     },
     "execution_count": 57,
     "metadata": {},
     "output_type": "execute_result"
    }
   ],
   "source": [
    "train.sample()"
   ]
  },
  {
   "cell_type": "code",
   "execution_count": 58,
   "metadata": {
    "collapsed": true
   },
   "outputs": [],
   "source": [
    "cat_feats = train.select_dtypes(include=[np.object]).columns\n",
    "\n",
    "for cat_feat in cat_feats:\n",
    "    train['{0}_Cat'.format(cat_feat)] = pd.factorize( train[cat_feat] )[0]"
   ]
  },
  {
   "cell_type": "code",
   "execution_count": 59,
   "metadata": {
    "collapsed": false
   },
   "outputs": [
    {
     "data": {
      "text/html": [
       "<div>\n",
       "<style scoped>\n",
       "    .dataframe tbody tr th:only-of-type {\n",
       "        vertical-align: middle;\n",
       "    }\n",
       "\n",
       "    .dataframe tbody tr th {\n",
       "        vertical-align: top;\n",
       "    }\n",
       "\n",
       "    .dataframe thead th {\n",
       "        text-align: right;\n",
       "    }\n",
       "</style>\n",
       "<table border=\"1\" class=\"dataframe\">\n",
       "  <thead>\n",
       "    <tr style=\"text-align: right;\">\n",
       "      <th></th>\n",
       "      <th>Age</th>\n",
       "      <th>Workclass</th>\n",
       "      <th>fnlwgt</th>\n",
       "      <th>Education</th>\n",
       "      <th>Education-Num</th>\n",
       "      <th>Martial Status</th>\n",
       "      <th>Occupation</th>\n",
       "      <th>Relationship</th>\n",
       "      <th>Race</th>\n",
       "      <th>Sex</th>\n",
       "      <th>...</th>\n",
       "      <th>Country</th>\n",
       "      <th>Target</th>\n",
       "      <th>Target_Cat</th>\n",
       "      <th>Workclass_Cat</th>\n",
       "      <th>Education_Cat</th>\n",
       "      <th>Martial Status_Cat</th>\n",
       "      <th>Occupation_Cat</th>\n",
       "      <th>Relationship_Cat</th>\n",
       "      <th>Race_Cat</th>\n",
       "      <th>Country_Cat</th>\n",
       "    </tr>\n",
       "  </thead>\n",
       "  <tbody>\n",
       "    <tr>\n",
       "      <th>22828</th>\n",
       "      <td>33</td>\n",
       "      <td>Private</td>\n",
       "      <td>153588</td>\n",
       "      <td>HS-grad</td>\n",
       "      <td>9</td>\n",
       "      <td>Married-civ-spouse</td>\n",
       "      <td>Machine-op-inspct</td>\n",
       "      <td>Husband</td>\n",
       "      <td>White</td>\n",
       "      <td>True</td>\n",
       "      <td>...</td>\n",
       "      <td>United-States</td>\n",
       "      <td>&lt;=50K</td>\n",
       "      <td>0</td>\n",
       "      <td>2</td>\n",
       "      <td>1</td>\n",
       "      <td>1</td>\n",
       "      <td>9</td>\n",
       "      <td>1</td>\n",
       "      <td>0</td>\n",
       "      <td>0</td>\n",
       "    </tr>\n",
       "  </tbody>\n",
       "</table>\n",
       "<p>1 rows × 23 columns</p>\n",
       "</div>"
      ],
      "text/plain": [
       "       Age Workclass  fnlwgt Education  Education-Num      Martial Status  \\\n",
       "22828   33   Private  153588   HS-grad              9  Married-civ-spouse   \n",
       "\n",
       "              Occupation Relationship   Race   Sex     ...       \\\n",
       "22828  Machine-op-inspct      Husband  White  True     ...        \n",
       "\n",
       "             Country  Target  Target_Cat Workclass_Cat Education_Cat  \\\n",
       "22828  United-States   <=50K           0             2             1   \n",
       "\n",
       "       Martial Status_Cat  Occupation_Cat  Relationship_Cat  Race_Cat  \\\n",
       "22828                   1               9                 1         0   \n",
       "\n",
       "       Country_Cat  \n",
       "22828            0  \n",
       "\n",
       "[1 rows x 23 columns]"
      ]
     },
     "execution_count": 59,
     "metadata": {},
     "output_type": "execute_result"
    }
   ],
   "source": [
    "train.sample()"
   ]
  },
  {
   "cell_type": "code",
   "execution_count": 60,
   "metadata": {
    "collapsed": false
   },
   "outputs": [
    {
     "data": {
      "text/plain": [
       "Index(['fnlwgt', 'Education-Num', 'Target_Cat', 'Workclass_Cat',\n",
       "       'Education_Cat', 'Martial Status_Cat', 'Occupation_Cat',\n",
       "       'Relationship_Cat', 'Race_Cat', 'Country_Cat'],\n",
       "      dtype='object')"
      ]
     },
     "execution_count": 60,
     "metadata": {},
     "output_type": "execute_result"
    }
   ],
   "source": [
    "feats = train.select_dtypes(include=[np.int]).columns\n",
    "feats"
   ]
  },
  {
   "cell_type": "code",
   "execution_count": 61,
   "metadata": {
    "collapsed": false
   },
   "outputs": [
    {
     "data": {
      "text/plain": [
       "['Education-Num',\n",
       " 'Workclass_Cat',\n",
       " 'Education_Cat',\n",
       " 'Martial Status_Cat',\n",
       " 'Occupation_Cat',\n",
       " 'Relationship_Cat',\n",
       " 'Race_Cat',\n",
       " 'Country_Cat']"
      ]
     },
     "execution_count": 61,
     "metadata": {},
     "output_type": "execute_result"
    }
   ],
   "source": [
    "feats = [feat for feat in feats if feat != 'Target_Cat' and feat != 'fnlwgt']\n",
    "feats"
   ]
  },
  {
   "cell_type": "markdown",
   "metadata": {},
   "source": [
    "## first check - no extra features (two models, ROC, learning curve, feature importance)"
   ]
  },
  {
   "cell_type": "markdown",
   "metadata": {},
   "source": [
    "### model - LogisticRegression, kFold, accuracy_score"
   ]
  },
  {
   "cell_type": "code",
   "execution_count": 62,
   "metadata": {
    "collapsed": false
   },
   "outputs": [
    {
     "name": "stdout",
     "output_type": "stream",
     "text": [
      "(0.7698473948258987, 0.0010552069288888948)\n"
     ]
    }
   ],
   "source": [
    "X = train[ feats ].values\n",
    "y = train[ 'Target_Cat' ].values\n",
    "\n",
    "cv = KFold(n_splits=4, random_state=2018, shuffle=True)\n",
    "model = LogisticRegression()\n",
    "\n",
    "def score():\n",
    "    scores = []\n",
    "    for train_idx, test_idx in cv.split(y):\n",
    "        model.fit(X[train_idx], y[train_idx])\n",
    "        y_pred = model.predict(X[test_idx])\n",
    "\n",
    "        score = accuracy_score(y[test_idx], y_pred )\n",
    "        scores.append(score)\n",
    "    return (np.mean(scores), np.std(scores))\n",
    "\n",
    "print(score())"
   ]
  },
  {
   "cell_type": "markdown",
   "metadata": {},
   "source": [
    "### learning curve"
   ]
  },
  {
   "cell_type": "code",
   "execution_count": 63,
   "metadata": {
    "collapsed": true
   },
   "outputs": [],
   "source": [
    "from sklearn.model_selection import learning_curve\n",
    "from sklearn.model_selection import ShuffleSplit\n",
    "\n",
    "def plot_learning_curve(model, title, X, y, ylim=None, cv=None, n_jobs=1, train_sizes=np.linspace(.1, 1.0, 5)):\n",
    "    \n",
    "    plt.figure(figsize=(12,8))\n",
    "    plt.title(title)\n",
    "    if ylim is not None:plt.ylim(*ylim)\n",
    "\n",
    "    plt.xlabel(\"Training examples\")\n",
    "    plt.ylabel(\"Score\")\n",
    "    \n",
    "    train_sizes, train_scores, test_scores = learning_curve(\n",
    "        model, X, y, cv=cv, n_jobs=n_jobs, train_sizes=train_sizes)\n",
    "    train_scores_mean = np.mean(train_scores, axis=1)\n",
    "    train_scores_std = np.std(train_scores, axis=1)\n",
    "    test_scores_mean = np.mean(test_scores, axis=1)\n",
    "    test_scores_std = np.std(test_scores, axis=1)\n",
    "    plt.grid()\n",
    "\n",
    "    plt.fill_between(train_sizes, train_scores_mean - train_scores_std,\n",
    "                     train_scores_mean + train_scores_std, alpha=0.1,\n",
    "                     color=\"r\")\n",
    "    plt.fill_between(train_sizes, test_scores_mean - test_scores_std,\n",
    "                     test_scores_mean + test_scores_std, alpha=0.1, color=\"g\")\n",
    "    plt.plot(train_sizes, train_scores_mean, 'o-', color=\"r\",\n",
    "             label=\"Training score\")\n",
    "    plt.plot(train_sizes, test_scores_mean, 'o-', color=\"g\",\n",
    "             label=\"Cross-validation score\")\n",
    "\n",
    "    plt.legend(loc=\"best\")\n",
    "    return plt"
   ]
  },
  {
   "cell_type": "code",
   "execution_count": 64,
   "metadata": {
    "collapsed": false
   },
   "outputs": [
    {
     "data": {
      "image/png": "[encoded data removed]",
      "text/plain": [
       "<Figure size 864x576 with 1 Axes>"
      ]
     },
     "metadata": {},
     "output_type": "display_data"
    }
   ],
   "source": [
    "plt = plot_learning_curve(LogisticRegression(), \"Learning Curves (LogisticRegression)\", X, y, ylim=(0.5, 1.02), cv=10)\n",
    "plt.show()"
   ]
  },
  {
   "cell_type": "markdown",
   "metadata": {},
   "source": [
    "### model - LogisticRegression, kFold, recall_score"
   ]
  },
  {
   "cell_type": "code",
   "execution_count": 65,
   "metadata": {
    "collapsed": false
   },
   "outputs": [
    {
     "name": "stdout",
     "output_type": "stream",
     "text": [
      "(0.22386385696732042, 0.006578540258886957)\n"
     ]
    }
   ],
   "source": [
    "X = train[ feats ].values\n",
    "y = train[ 'Target_Cat' ].values\n",
    "\n",
    "cv = KFold(n_splits=4, random_state=2018, shuffle=True)\n",
    "model = LogisticRegression()\n",
    "\n",
    "def score():\n",
    "    scores = []\n",
    "    for train_idx, test_idx in cv.split(y):\n",
    "        model.fit(X[train_idx], y[train_idx])\n",
    "        y_pred = model.predict(X[test_idx])\n",
    "\n",
    "        score = recall_score(y[test_idx], y_pred )\n",
    "        scores.append(score)\n",
    "    return (np.mean(scores), np.std(scores))\n",
    "\n",
    "print(score())"
   ]
  },
  {
   "cell_type": "markdown",
   "metadata": {},
   "source": [
    "### model - RandomForest, kFold, accuracy_score"
   ]
  },
  {
   "cell_type": "code",
   "execution_count": 66,
   "metadata": {
    "collapsed": false
   },
   "outputs": [
    {
     "name": "stdout",
     "output_type": "stream",
     "text": [
      "(0.8200607452434624, 0.002868446594333722)\n"
     ]
    }
   ],
   "source": [
    "X = train[ feats ].values\n",
    "y = train[ 'Target_Cat' ].values\n",
    "\n",
    "cv = KFold(n_splits=4, random_state=2018, shuffle=True)\n",
    "model = RandomForestClassifier(max_depth=5, n_estimators =5, max_features=3)\n",
    "\n",
    "def score():\n",
    "    scores = []\n",
    "    for train_idx, test_idx in cv.split(y):\n",
    "        model.fit(X[train_idx], y[train_idx])\n",
    "        y_pred = model.predict(X[test_idx])\n",
    "\n",
    "        score = accuracy_score(y[test_idx], y_pred )\n",
    "        scores.append(score)\n",
    "    return (np.mean(scores), np.std(scores))\n",
    "\n",
    "print(score())"
   ]
  },
  {
   "cell_type": "code",
   "execution_count": 67,
   "metadata": {
    "collapsed": false
   },
   "outputs": [
    {
     "data": {
      "image/png": "[encoded data removed]",
      "text/plain": [
       "<Figure size 864x576 with 1 Axes>"
      ]
     },
     "metadata": {},
     "output_type": "display_data"
    }
   ],
   "source": [
    "plt = plot_learning_curve(RandomForestClassifier(max_depth=5, n_estimators =5, max_features=3), \"Learning Curves (RandomForestClassifier)\", X, y, ylim=(0.5, 1.02), cv=10)\n",
    "plt.show()"
   ]
  },
  {
   "cell_type": "code",
   "execution_count": 68,
   "metadata": {
    "collapsed": true
   },
   "outputs": [],
   "source": [
    "def draw_feature_importances(model, feats):\n",
    "    importances = model.feature_importances_\n",
    "    indices = np.argsort(importances)[::-1]\n",
    "\n",
    "    plt.figure(figsize=(10, 5))\n",
    "    plt.title(\"Feature importance\")\n",
    "    plt.bar(range(X.shape[1]), model.feature_importances_[indices],\n",
    "           color=\"b\", align=\"center\")\n",
    "    plt.xticks(range(X.shape[1]), [ feats[x] for x in indices])\n",
    "    plt.xticks(rotation=90)\n",
    "    plt.xlim([-1, X.shape[1]])\n",
    "    plt.show()"
   ]
  },
  {
   "cell_type": "code",
   "execution_count": 69,
   "metadata": {
    "collapsed": false
   },
   "outputs": [
    {
     "data": {
      "image/png": "[encoded data removed]",
      "text/plain": [
       "<Figure size 720x360 with 1 Axes>"
      ]
     },
     "metadata": {},
     "output_type": "display_data"
    }
   ],
   "source": [
    "draw_feature_importances(model, feats)"
   ]
  },
  {
   "cell_type": "markdown",
   "metadata": {},
   "source": [
    "### model - RandomForest, kFold, recall_score"
   ]
  },
  {
   "cell_type": "code",
   "execution_count": 70,
   "metadata": {
    "collapsed": false
   },
   "outputs": [
    {
     "name": "stdout",
     "output_type": "stream",
     "text": [
      "(0.4200896260928564, 0.005206019319590467)\n"
     ]
    }
   ],
   "source": [
    "def score():\n",
    "    scores = []\n",
    "    for train_idx, test_idx in cv.split(y):\n",
    "        model.fit(X[train_idx], y[train_idx])\n",
    "        y_pred = model.predict(X[test_idx])\n",
    "\n",
    "        score = recall_score(y[test_idx], y_pred )\n",
    "        scores.append(score)\n",
    "    return (np.mean(scores), np.std(scores))\n",
    "\n",
    "print(score())"
   ]
  },
  {
   "cell_type": "code",
   "execution_count": 71,
   "metadata": {
    "collapsed": false
   },
   "outputs": [
    {
     "data": {
      "text/html": [
       "<div>\n",
       "<style scoped>\n",
       "    .dataframe tbody tr th:only-of-type {\n",
       "        vertical-align: middle;\n",
       "    }\n",
       "\n",
       "    .dataframe tbody tr th {\n",
       "        vertical-align: top;\n",
       "    }\n",
       "\n",
       "    .dataframe thead th {\n",
       "        text-align: right;\n",
       "    }\n",
       "</style>\n",
       "<table border=\"1\" class=\"dataframe\">\n",
       "  <thead>\n",
       "    <tr style=\"text-align: right;\">\n",
       "      <th></th>\n",
       "      <th>Age</th>\n",
       "      <th>fnlwgt</th>\n",
       "      <th>Education-Num</th>\n",
       "      <th>Sex</th>\n",
       "      <th>Capital Gain</th>\n",
       "      <th>Capital Loss</th>\n",
       "      <th>Hours per week</th>\n",
       "      <th>Target_Cat</th>\n",
       "      <th>Workclass_Cat</th>\n",
       "      <th>Education_Cat</th>\n",
       "      <th>Martial Status_Cat</th>\n",
       "      <th>Occupation_Cat</th>\n",
       "      <th>Relationship_Cat</th>\n",
       "      <th>Race_Cat</th>\n",
       "      <th>Country_Cat</th>\n",
       "    </tr>\n",
       "  </thead>\n",
       "  <tbody>\n",
       "    <tr>\n",
       "      <th>Age</th>\n",
       "      <td>1.000000</td>\n",
       "      <td>-0.076646</td>\n",
       "      <td>0.036527</td>\n",
       "      <td>0.088832</td>\n",
       "      <td>0.064301</td>\n",
       "      <td>0.057775</td>\n",
       "      <td>0.068756</td>\n",
       "      <td>0.234037</td>\n",
       "      <td>0.082380</td>\n",
       "      <td>0.007767</td>\n",
       "      <td>0.424606</td>\n",
       "      <td>0.017201</td>\n",
       "      <td>-0.217767</td>\n",
       "      <td>-0.040000</td>\n",
       "      <td>-0.011572</td>\n",
       "    </tr>\n",
       "    <tr>\n",
       "      <th>fnlwgt</th>\n",
       "      <td>-0.076646</td>\n",
       "      <td>1.000000</td>\n",
       "      <td>-0.043195</td>\n",
       "      <td>0.026858</td>\n",
       "      <td>-0.007000</td>\n",
       "      <td>-0.010252</td>\n",
       "      <td>-0.018768</td>\n",
       "      <td>-0.009463</td>\n",
       "      <td>-0.006314</td>\n",
       "      <td>0.024188</td>\n",
       "      <td>-0.023527</td>\n",
       "      <td>0.007892</td>\n",
       "      <td>0.017142</td>\n",
       "      <td>0.000500</td>\n",
       "      <td>0.035910</td>\n",
       "    </tr>\n",
       "    <tr>\n",
       "      <th>Education-Num</th>\n",
       "      <td>0.036527</td>\n",
       "      <td>-0.043195</td>\n",
       "      <td>1.000000</td>\n",
       "      <td>0.012280</td>\n",
       "      <td>0.062300</td>\n",
       "      <td>0.079923</td>\n",
       "      <td>0.148123</td>\n",
       "      <td>0.335154</td>\n",
       "      <td>0.011343</td>\n",
       "      <td>-0.279614</td>\n",
       "      <td>-0.065996</td>\n",
       "      <td>-0.242997</td>\n",
       "      <td>-0.141075</td>\n",
       "      <td>-0.039760</td>\n",
       "      <td>-0.066044</td>\n",
       "    </tr>\n",
       "    <tr>\n",
       "      <th>Sex</th>\n",
       "      <td>0.088832</td>\n",
       "      <td>0.026858</td>\n",
       "      <td>0.012280</td>\n",
       "      <td>1.000000</td>\n",
       "      <td>0.028219</td>\n",
       "      <td>0.045567</td>\n",
       "      <td>0.229309</td>\n",
       "      <td>0.215980</td>\n",
       "      <td>-0.019347</td>\n",
       "      <td>-0.000550</td>\n",
       "      <td>-0.181870</td>\n",
       "      <td>0.147779</td>\n",
       "      <td>-0.273414</td>\n",
       "      <td>-0.067840</td>\n",
       "      <td>-0.005977</td>\n",
       "    </tr>\n",
       "    <tr>\n",
       "      <th>Capital Gain</th>\n",
       "      <td>0.064301</td>\n",
       "      <td>-0.007000</td>\n",
       "      <td>0.062300</td>\n",
       "      <td>0.028219</td>\n",
       "      <td>1.000000</td>\n",
       "      <td>-0.027282</td>\n",
       "      <td>0.031964</td>\n",
       "      <td>0.154853</td>\n",
       "      <td>0.002884</td>\n",
       "      <td>-0.022521</td>\n",
       "      <td>0.012773</td>\n",
       "      <td>-0.020194</td>\n",
       "      <td>-0.033732</td>\n",
       "      <td>-0.016541</td>\n",
       "      <td>-0.005300</td>\n",
       "    </tr>\n",
       "    <tr>\n",
       "      <th>Capital Loss</th>\n",
       "      <td>0.057775</td>\n",
       "      <td>-0.010252</td>\n",
       "      <td>0.079923</td>\n",
       "      <td>0.045567</td>\n",
       "      <td>-0.027282</td>\n",
       "      <td>1.000000</td>\n",
       "      <td>0.054256</td>\n",
       "      <td>0.150526</td>\n",
       "      <td>0.012510</td>\n",
       "      <td>-0.003192</td>\n",
       "      <td>0.006833</td>\n",
       "      <td>-0.023963</td>\n",
       "      <td>-0.050498</td>\n",
       "      <td>-0.017190</td>\n",
       "      <td>-0.004373</td>\n",
       "    </tr>\n",
       "    <tr>\n",
       "      <th>Hours per week</th>\n",
       "      <td>0.068756</td>\n",
       "      <td>-0.018768</td>\n",
       "      <td>0.148123</td>\n",
       "      <td>0.229309</td>\n",
       "      <td>0.031964</td>\n",
       "      <td>0.054256</td>\n",
       "      <td>1.000000</td>\n",
       "      <td>0.229689</td>\n",
       "      <td>-0.028084</td>\n",
       "      <td>-0.050025</td>\n",
       "      <td>-0.000277</td>\n",
       "      <td>-0.045240</td>\n",
       "      <td>-0.184873</td>\n",
       "      <td>-0.033115</td>\n",
       "      <td>-0.009662</td>\n",
       "    </tr>\n",
       "    <tr>\n",
       "      <th>Target_Cat</th>\n",
       "      <td>0.234037</td>\n",
       "      <td>-0.009463</td>\n",
       "      <td>0.335154</td>\n",
       "      <td>0.215980</td>\n",
       "      <td>0.154853</td>\n",
       "      <td>0.150526</td>\n",
       "      <td>0.229689</td>\n",
       "      <td>1.000000</td>\n",
       "      <td>0.047203</td>\n",
       "      <td>-0.046218</td>\n",
       "      <td>0.002644</td>\n",
       "      <td>-0.104691</td>\n",
       "      <td>-0.171294</td>\n",
       "      <td>-0.067713</td>\n",
       "      <td>-0.028478</td>\n",
       "    </tr>\n",
       "    <tr>\n",
       "      <th>Workclass_Cat</th>\n",
       "      <td>0.082380</td>\n",
       "      <td>-0.006314</td>\n",
       "      <td>0.011343</td>\n",
       "      <td>-0.019347</td>\n",
       "      <td>0.002884</td>\n",
       "      <td>0.012510</td>\n",
       "      <td>-0.028084</td>\n",
       "      <td>0.047203</td>\n",
       "      <td>1.000000</td>\n",
       "      <td>0.011666</td>\n",
       "      <td>0.035949</td>\n",
       "      <td>0.217072</td>\n",
       "      <td>0.015524</td>\n",
       "      <td>0.009359</td>\n",
       "      <td>-0.010246</td>\n",
       "    </tr>\n",
       "    <tr>\n",
       "      <th>Education_Cat</th>\n",
       "      <td>0.007767</td>\n",
       "      <td>0.024188</td>\n",
       "      <td>-0.279614</td>\n",
       "      <td>-0.000550</td>\n",
       "      <td>-0.022521</td>\n",
       "      <td>-0.003192</td>\n",
       "      <td>-0.050025</td>\n",
       "      <td>-0.046218</td>\n",
       "      <td>0.011666</td>\n",
       "      <td>1.000000</td>\n",
       "      <td>0.008507</td>\n",
       "      <td>0.074961</td>\n",
       "      <td>0.044319</td>\n",
       "      <td>0.029638</td>\n",
       "      <td>0.067619</td>\n",
       "    </tr>\n",
       "    <tr>\n",
       "      <th>Martial Status_Cat</th>\n",
       "      <td>0.424606</td>\n",
       "      <td>-0.023527</td>\n",
       "      <td>-0.065996</td>\n",
       "      <td>-0.181870</td>\n",
       "      <td>0.012773</td>\n",
       "      <td>0.006833</td>\n",
       "      <td>-0.000277</td>\n",
       "      <td>0.002644</td>\n",
       "      <td>0.035949</td>\n",
       "      <td>0.008507</td>\n",
       "      <td>1.000000</td>\n",
       "      <td>0.006524</td>\n",
       "      <td>0.029083</td>\n",
       "      <td>0.012722</td>\n",
       "      <td>0.001912</td>\n",
       "    </tr>\n",
       "    <tr>\n",
       "      <th>Occupation_Cat</th>\n",
       "      <td>0.017201</td>\n",
       "      <td>0.007892</td>\n",
       "      <td>-0.242997</td>\n",
       "      <td>0.147779</td>\n",
       "      <td>-0.020194</td>\n",
       "      <td>-0.023963</td>\n",
       "      <td>-0.045240</td>\n",
       "      <td>-0.104691</td>\n",
       "      <td>0.217072</td>\n",
       "      <td>0.074961</td>\n",
       "      <td>0.006524</td>\n",
       "      <td>1.000000</td>\n",
       "      <td>-0.016150</td>\n",
       "      <td>0.016586</td>\n",
       "      <td>0.019578</td>\n",
       "    </tr>\n",
       "    <tr>\n",
       "      <th>Relationship_Cat</th>\n",
       "      <td>-0.217767</td>\n",
       "      <td>0.017142</td>\n",
       "      <td>-0.141075</td>\n",
       "      <td>-0.273414</td>\n",
       "      <td>-0.033732</td>\n",
       "      <td>-0.050498</td>\n",
       "      <td>-0.184873</td>\n",
       "      <td>-0.171294</td>\n",
       "      <td>0.015524</td>\n",
       "      <td>0.044319</td>\n",
       "      <td>0.029083</td>\n",
       "      <td>-0.016150</td>\n",
       "      <td>1.000000</td>\n",
       "      <td>0.096808</td>\n",
       "      <td>0.042444</td>\n",
       "    </tr>\n",
       "    <tr>\n",
       "      <th>Race_Cat</th>\n",
       "      <td>-0.040000</td>\n",
       "      <td>0.000500</td>\n",
       "      <td>-0.039760</td>\n",
       "      <td>-0.067840</td>\n",
       "      <td>-0.016541</td>\n",
       "      <td>-0.017190</td>\n",
       "      <td>-0.033115</td>\n",
       "      <td>-0.067713</td>\n",
       "      <td>0.009359</td>\n",
       "      <td>0.029638</td>\n",
       "      <td>0.012722</td>\n",
       "      <td>0.016586</td>\n",
       "      <td>0.096808</td>\n",
       "      <td>1.000000</td>\n",
       "      <td>0.241650</td>\n",
       "    </tr>\n",
       "    <tr>\n",
       "      <th>Country_Cat</th>\n",
       "      <td>-0.011572</td>\n",
       "      <td>0.035910</td>\n",
       "      <td>-0.066044</td>\n",
       "      <td>-0.005977</td>\n",
       "      <td>-0.005300</td>\n",
       "      <td>-0.004373</td>\n",
       "      <td>-0.009662</td>\n",
       "      <td>-0.028478</td>\n",
       "      <td>-0.010246</td>\n",
       "      <td>0.067619</td>\n",
       "      <td>0.001912</td>\n",
       "      <td>0.019578</td>\n",
       "      <td>0.042444</td>\n",
       "      <td>0.241650</td>\n",
       "      <td>1.000000</td>\n",
       "    </tr>\n",
       "  </tbody>\n",
       "</table>\n",
       "</div>"
      ],
      "text/plain": [
       "                         Age    fnlwgt  Education-Num       Sex  Capital Gain  \\\n",
       "Age                 1.000000 -0.076646       0.036527  0.088832      0.064301   \n",
       "fnlwgt             -0.076646  1.000000      -0.043195  0.026858     -0.007000   \n",
       "Education-Num       0.036527 -0.043195       1.000000  0.012280      0.062300   \n",
       "Sex                 0.088832  0.026858       0.012280  1.000000      0.028219   \n",
       "Capital Gain        0.064301 -0.007000       0.062300  0.028219      1.000000   \n",
       "Capital Loss        0.057775 -0.010252       0.079923  0.045567     -0.027282   \n",
       "Hours per week      0.068756 -0.018768       0.148123  0.229309      0.031964   \n",
       "Target_Cat          0.234037 -0.009463       0.335154  0.215980      0.154853   \n",
       "Workclass_Cat       0.082380 -0.006314       0.011343 -0.019347      0.002884   \n",
       "Education_Cat       0.007767  0.024188      -0.279614 -0.000550     -0.022521   \n",
       "Martial Status_Cat  0.424606 -0.023527      -0.065996 -0.181870      0.012773   \n",
       "Occupation_Cat      0.017201  0.007892      -0.242997  0.147779     -0.020194   \n",
       "Relationship_Cat   -0.217767  0.017142      -0.141075 -0.273414     -0.033732   \n",
       "Race_Cat           -0.040000  0.000500      -0.039760 -0.067840     -0.016541   \n",
       "Country_Cat        -0.011572  0.035910      -0.066044 -0.005977     -0.005300   \n",
       "\n",
       "                    Capital Loss  Hours per week  Target_Cat  Workclass_Cat  \\\n",
       "Age                     0.057775        0.068756    0.234037       0.082380   \n",
       "fnlwgt                 -0.010252       -0.018768   -0.009463      -0.006314   \n",
       "Education-Num           0.079923        0.148123    0.335154       0.011343   \n",
       "Sex                     0.045567        0.229309    0.215980      -0.019347   \n",
       "Capital Gain           -0.027282        0.031964    0.154853       0.002884   \n",
       "Capital Loss            1.000000        0.054256    0.150526       0.012510   \n",
       "Hours per week          0.054256        1.000000    0.229689      -0.028084   \n",
       "Target_Cat              0.150526        0.229689    1.000000       0.047203   \n",
       "Workclass_Cat           0.012510       -0.028084    0.047203       1.000000   \n",
       "Education_Cat          -0.003192       -0.050025   -0.046218       0.011666   \n",
       "Martial Status_Cat      0.006833       -0.000277    0.002644       0.035949   \n",
       "Occupation_Cat         -0.023963       -0.045240   -0.104691       0.217072   \n",
       "Relationship_Cat       -0.050498       -0.184873   -0.171294       0.015524   \n",
       "Race_Cat               -0.017190       -0.033115   -0.067713       0.009359   \n",
       "Country_Cat            -0.004373       -0.009662   -0.028478      -0.010246   \n",
       "\n",
       "                    Education_Cat  Martial Status_Cat  Occupation_Cat  \\\n",
       "Age                      0.007767            0.424606        0.017201   \n",
       "fnlwgt                   0.024188           -0.023527        0.007892   \n",
       "Education-Num           -0.279614           -0.065996       -0.242997   \n",
       "Sex                     -0.000550           -0.181870        0.147779   \n",
       "Capital Gain            -0.022521            0.012773       -0.020194   \n",
       "Capital Loss            -0.003192            0.006833       -0.023963   \n",
       "Hours per week          -0.050025           -0.000277       -0.045240   \n",
       "Target_Cat              -0.046218            0.002644       -0.104691   \n",
       "Workclass_Cat            0.011666            0.035949        0.217072   \n",
       "Education_Cat            1.000000            0.008507        0.074961   \n",
       "Martial Status_Cat       0.008507            1.000000        0.006524   \n",
       "Occupation_Cat           0.074961            0.006524        1.000000   \n",
       "Relationship_Cat         0.044319            0.029083       -0.016150   \n",
       "Race_Cat                 0.029638            0.012722        0.016586   \n",
       "Country_Cat              0.067619            0.001912        0.019578   \n",
       "\n",
       "                    Relationship_Cat  Race_Cat  Country_Cat  \n",
       "Age                        -0.217767 -0.040000    -0.011572  \n",
       "fnlwgt                      0.017142  0.000500     0.035910  \n",
       "Education-Num              -0.141075 -0.039760    -0.066044  \n",
       "Sex                        -0.273414 -0.067840    -0.005977  \n",
       "Capital Gain               -0.033732 -0.016541    -0.005300  \n",
       "Capital Loss               -0.050498 -0.017190    -0.004373  \n",
       "Hours per week             -0.184873 -0.033115    -0.009662  \n",
       "Target_Cat                 -0.171294 -0.067713    -0.028478  \n",
       "Workclass_Cat               0.015524  0.009359    -0.010246  \n",
       "Education_Cat               0.044319  0.029638     0.067619  \n",
       "Martial Status_Cat          0.029083  0.012722     0.001912  \n",
       "Occupation_Cat             -0.016150  0.016586     0.019578  \n",
       "Relationship_Cat            1.000000  0.096808     0.042444  \n",
       "Race_Cat                    0.096808  1.000000     0.241650  \n",
       "Country_Cat                 0.042444  0.241650     1.000000  "
      ]
     },
     "execution_count": 71,
     "metadata": {},
     "output_type": "execute_result"
    }
   ],
   "source": [
    "train.corr()"
   ]
  },
  {
   "cell_type": "markdown",
   "metadata": {
    "collapsed": true
   },
   "source": [
    "### feature engineering"
   ]
  },
  {
   "cell_type": "code",
   "execution_count": 72,
   "metadata": {
    "collapsed": true
   },
   "outputs": [],
   "source": [
    "def white_husband(row):\n",
    "    if row['Race'] == 'White' and row['Relationship'] == 'Husband':\n",
    "        return 1\n",
    "    else:\n",
    "        return 0\n",
    "\n",
    "def no_pay_no_education(row):\n",
    "    if row['Workclass'] == 'Without-pay' and row['Education'] == 'Preschool':\n",
    "        return 0\n",
    "    else:\n",
    "        return 1    \n",
    "    \n",
    "def capital_working_hours(row):\n",
    "    if row['Capital Gain'] > 1000 and row['Hours per week'] > 35:\n",
    "        return 2\n",
    "    elif row['Capital Gain'] > 0 and row['Hours per week'] > 30:\n",
    "        return 1\n",
    "    else:\n",
    "        return 0    \n",
    " \n",
    "def feature_engineering(train):\n",
    "    train['Race_Rel'] = train [ ['Race', 'Relationship'] ].apply(white_husband, axis=1)\n",
    "    train['Workclass_Education'] = train[ ['Workclass', 'Education'] ].apply(no_pay_no_education, axis=1)\n",
    "    train['Capital_Hours'] = train[ ['Capital Gain', 'Hours per week'] ].apply(capital_working_hours, axis=1)\n",
    "   \n",
    "    return train"
   ]
  },
  {
   "cell_type": "code",
   "execution_count": 73,
   "metadata": {
    "collapsed": true
   },
   "outputs": [],
   "source": [
    "train_fe = feature_engineering(train)"
   ]
  },
  {
   "cell_type": "code",
   "execution_count": 74,
   "metadata": {
    "collapsed": false
   },
   "outputs": [
    {
     "name": "stdout",
     "output_type": "stream",
     "text": [
      "<class 'pandas.core.frame.DataFrame'>\n",
      "Int64Index: 32561 entries, 0 to 32560\n",
      "Data columns (total 26 columns):\n",
      "Age                    32561 non-null int8\n",
      "Workclass              32561 non-null object\n",
      "fnlwgt                 32561 non-null int64\n",
      "Education              32561 non-null object\n",
      "Education-Num          32561 non-null int64\n",
      "Martial Status         32561 non-null object\n",
      "Occupation             32561 non-null object\n",
      "Relationship           32561 non-null object\n",
      "Race                   32561 non-null object\n",
      "Sex                    32561 non-null bool\n",
      "Capital Gain           32561 non-null int16\n",
      "Capital Loss           32561 non-null int16\n",
      "Hours per week         32561 non-null int8\n",
      "Country                32561 non-null object\n",
      "Target                 32561 non-null object\n",
      "Target_Cat             32561 non-null int64\n",
      "Workclass_Cat          32561 non-null int64\n",
      "Education_Cat          32561 non-null int64\n",
      "Martial Status_Cat     32561 non-null int64\n",
      "Occupation_Cat         32561 non-null int64\n",
      "Relationship_Cat       32561 non-null int64\n",
      "Race_Cat               32561 non-null int64\n",
      "Country_Cat            32561 non-null int64\n",
      "Race_Rel               32561 non-null int64\n",
      "Workclass_Education    32561 non-null int64\n",
      "Capital_Hours          32561 non-null int64\n",
      "dtypes: bool(1), int16(2), int64(13), int8(2), object(8)\n",
      "memory usage: 5.7+ MB\n"
     ]
    }
   ],
   "source": [
    "train_fe.info()"
   ]
  },
  {
   "cell_type": "code",
   "execution_count": 75,
   "metadata": {
    "collapsed": true
   },
   "outputs": [],
   "source": [
    "for feat in train_fe.select_dtypes(include=[np.object]).columns:\n",
    "    train_fe['{0}_Cat'.format(feat)] = pd.factorize( train[feat] )[0]"
   ]
  },
  {
   "cell_type": "code",
   "execution_count": 76,
   "metadata": {
    "collapsed": false
   },
   "outputs": [
    {
     "name": "stdout",
     "output_type": "stream",
     "text": [
      "<class 'pandas.core.frame.DataFrame'>\n",
      "Int64Index: 32561 entries, 0 to 32560\n",
      "Data columns (total 26 columns):\n",
      "Age                    32561 non-null int8\n",
      "Workclass              32561 non-null object\n",
      "fnlwgt                 32561 non-null int64\n",
      "Education              32561 non-null object\n",
      "Education-Num          32561 non-null int64\n",
      "Martial Status         32561 non-null object\n",
      "Occupation             32561 non-null object\n",
      "Relationship           32561 non-null object\n",
      "Race                   32561 non-null object\n",
      "Sex                    32561 non-null bool\n",
      "Capital Gain           32561 non-null int16\n",
      "Capital Loss           32561 non-null int16\n",
      "Hours per week         32561 non-null int8\n",
      "Country                32561 non-null object\n",
      "Target                 32561 non-null object\n",
      "Target_Cat             32561 non-null int64\n",
      "Workclass_Cat          32561 non-null int64\n",
      "Education_Cat          32561 non-null int64\n",
      "Martial Status_Cat     32561 non-null int64\n",
      "Occupation_Cat         32561 non-null int64\n",
      "Relationship_Cat       32561 non-null int64\n",
      "Race_Cat               32561 non-null int64\n",
      "Country_Cat            32561 non-null int64\n",
      "Race_Rel               32561 non-null int64\n",
      "Workclass_Education    32561 non-null int64\n",
      "Capital_Hours          32561 non-null int64\n",
      "dtypes: bool(1), int16(2), int64(13), int8(2), object(8)\n",
      "memory usage: 5.7+ MB\n"
     ]
    }
   ],
   "source": [
    "train_fe.info()"
   ]
  },
  {
   "cell_type": "code",
   "execution_count": 77,
   "metadata": {
    "collapsed": false
   },
   "outputs": [
    {
     "data": {
      "text/plain": [
       "['Education-Num',\n",
       " 'Workclass_Cat',\n",
       " 'Education_Cat',\n",
       " 'Martial Status_Cat',\n",
       " 'Occupation_Cat',\n",
       " 'Relationship_Cat',\n",
       " 'Race_Cat',\n",
       " 'Country_Cat',\n",
       " 'Race_Rel',\n",
       " 'Workclass_Education',\n",
       " 'Capital_Hours']"
      ]
     },
     "execution_count": 77,
     "metadata": {},
     "output_type": "execute_result"
    }
   ],
   "source": [
    "feats = train_fe.select_dtypes(include=[np.int]).columns.values\n",
    "feats = [feat for feat in feats if feat != 'Target_Cat' and feat !='fnlwgt']\n",
    "feats"
   ]
  },
  {
   "cell_type": "markdown",
   "metadata": {},
   "source": [
    "### model - LogisticRegression, kFold, accuracy_score + feature engineering"
   ]
  },
  {
   "cell_type": "code",
   "execution_count": 78,
   "metadata": {
    "collapsed": false
   },
   "outputs": [
    {
     "name": "stdout",
     "output_type": "stream",
     "text": [
      "(0.821934115302559, 0.004581126630812648)\n"
     ]
    }
   ],
   "source": [
    "X = train[ feats ].values\n",
    "y = train[ 'Target_Cat' ].values\n",
    "\n",
    "cv = KFold(n_splits=4, random_state=2018, shuffle=True)\n",
    "model = LogisticRegression()\n",
    "\n",
    "def score():\n",
    "    scores = []\n",
    "    for train_idx, test_idx in cv.split(y):\n",
    "        model.fit(X[train_idx], y[train_idx])\n",
    "        y_pred = model.predict(X[test_idx])\n",
    "\n",
    "        score = accuracy_score(y[test_idx], y_pred )\n",
    "        scores.append(score)\n",
    "    return (np.mean(scores), np.std(scores))\n",
    "\n",
    "print(score())"
   ]
  },
  {
   "cell_type": "code",
   "execution_count": 79,
   "metadata": {
    "collapsed": false
   },
   "outputs": [
    {
     "data": {
      "image/png": "[encoded data removed]",
      "text/plain": [
       "<Figure size 864x576 with 1 Axes>"
      ]
     },
     "metadata": {},
     "output_type": "display_data"
    }
   ],
   "source": [
    "plt = plot_learning_curve(LogisticRegression(), \"Learning Curves (LogisticRegression)\", X, y, ylim=(0.5, 1.02), cv=10)\n",
    "plt.show()"
   ]
  },
  {
   "cell_type": "markdown",
   "metadata": {},
   "source": [
    "### model - LogisticRegression, kFold, recall_score + feature engineering"
   ]
  },
  {
   "cell_type": "code",
   "execution_count": 80,
   "metadata": {
    "collapsed": false
   },
   "outputs": [
    {
     "name": "stdout",
     "output_type": "stream",
     "text": [
      "(0.4585599384791346, 0.010996532663401807)\n"
     ]
    }
   ],
   "source": [
    "def score():\n",
    "    scores = []\n",
    "    for train_idx, test_idx in cv.split(y):\n",
    "        model.fit(X[train_idx], y[train_idx])\n",
    "        y_pred = model.predict(X[test_idx])\n",
    "\n",
    "        score = recall_score(y[test_idx], y_pred )\n",
    "        scores.append(score)\n",
    "    return (np.mean(scores), np.std(scores))\n",
    "\n",
    "print(score())"
   ]
  },
  {
   "cell_type": "markdown",
   "metadata": {},
   "source": [
    "### model - LogisticRegression, kFold, precision_score + feature engineering"
   ]
  },
  {
   "cell_type": "code",
   "execution_count": 81,
   "metadata": {
    "collapsed": false
   },
   "outputs": [
    {
     "name": "stdout",
     "output_type": "stream",
     "text": [
      "(0.6984332762748255, 0.011926129693886909)\n"
     ]
    }
   ],
   "source": [
    "def score():\n",
    "    scores = []\n",
    "    for train_idx, test_idx in cv.split(y):\n",
    "        model.fit(X[train_idx], y[train_idx])\n",
    "        y_pred = model.predict(X[test_idx])\n",
    "\n",
    "        score = precision_score(y[test_idx], y_pred )\n",
    "        scores.append(score)\n",
    "    return (np.mean(scores), np.std(scores))\n",
    "\n",
    "print(score())"
   ]
  },
  {
   "cell_type": "markdown",
   "metadata": {},
   "source": [
    "### model - RandomForest, kFold, accuracy_score + feature engineering"
   ]
  },
  {
   "cell_type": "code",
   "execution_count": 82,
   "metadata": {
    "collapsed": false
   },
   "outputs": [
    {
     "name": "stdout",
     "output_type": "stream",
     "text": [
      "(0.833543108607597, 0.00307465807920733)\n"
     ]
    }
   ],
   "source": [
    "model = RandomForestClassifier(max_depth=10, n_estimators=10, max_features=8)\n",
    "\n",
    "def score():\n",
    "    scores = []\n",
    "    for train_idx, test_idx in cv.split(y):\n",
    "        model.fit(X[train_idx], y[train_idx])\n",
    "        y_pred = model.predict(X[test_idx])\n",
    "\n",
    "        score = accuracy_score(y[test_idx], y_pred )\n",
    "        scores.append(score)\n",
    "    return (np.mean(scores), np.std(scores))\n",
    "\n",
    "print(score())"
   ]
  },
  {
   "cell_type": "code",
   "execution_count": 83,
   "metadata": {
    "collapsed": false
   },
   "outputs": [
    {
     "data": {
      "image/png": "[encoded data removed]",
      "text/plain": [
       "<Figure size 864x576 with 1 Axes>"
      ]
     },
     "metadata": {},
     "output_type": "display_data"
    }
   ],
   "source": [
    "plt = plot_learning_curve(RandomForestClassifier(max_depth=5, n_estimators=5, max_features=8), \"Learning Curves (RandomForestClassifier)\", X, y, ylim=(0.5, 1.02), cv=10)\n",
    "plt.show()"
   ]
  },
  {
   "cell_type": "code",
   "execution_count": 84,
   "metadata": {
    "collapsed": false
   },
   "outputs": [
    {
     "data": {
      "image/png": "[encoded data removed]",
      "text/plain": [
       "<Figure size 720x360 with 1 Axes>"
      ]
     },
     "metadata": {},
     "output_type": "display_data"
    }
   ],
   "source": [
    "draw_feature_importances(model, feats)"
   ]
  },
  {
   "cell_type": "markdown",
   "metadata": {},
   "source": [
    "### model - RandomForest, kFold, recall_score + feature engineering"
   ]
  },
  {
   "cell_type": "code",
   "execution_count": 85,
   "metadata": {
    "collapsed": false
   },
   "outputs": [
    {
     "name": "stdout",
     "output_type": "stream",
     "text": [
      "(0.49221270331326894, 0.007064710297271166)\n"
     ]
    }
   ],
   "source": [
    "model = RandomForestClassifier(max_depth=5, n_estimators=5, max_features=8)\n",
    "\n",
    "def score():\n",
    "    scores = []\n",
    "    for train_idx, test_idx in cv.split(y):\n",
    "        model.fit(X[train_idx], y[train_idx])\n",
    "        y_pred = model.predict(X[test_idx])\n",
    "\n",
    "        score = recall_score(y[test_idx], y_pred )\n",
    "        scores.append(score)\n",
    "    return (np.mean(scores), np.std(scores))\n",
    "\n",
    "print(score())"
   ]
  },
  {
   "cell_type": "markdown",
   "metadata": {},
   "source": [
    "### model - RandomForest, kFold, precision_score + feature engineering"
   ]
  },
  {
   "cell_type": "code",
   "execution_count": 86,
   "metadata": {
    "collapsed": false
   },
   "outputs": [
    {
     "name": "stdout",
     "output_type": "stream",
     "text": [
      "(0.7170268465862036, 0.004639572460065448)\n"
     ]
    }
   ],
   "source": [
    "model = RandomForestClassifier(max_depth=5, n_estimators =5, max_features=8)\n",
    "\n",
    "def score():\n",
    "    scores = []\n",
    "    for train_idx, test_idx in cv.split(y):\n",
    "        model.fit(X[train_idx], y[train_idx])\n",
    "        y_pred = model.predict(X[test_idx])\n",
    "\n",
    "        score = precision_score(y[test_idx], y_pred )\n",
    "        scores.append(score)\n",
    "    return (np.mean(scores), np.std(scores))\n",
    "\n",
    "print(score())"
   ]
  },
  {
   "cell_type": "markdown",
   "metadata": {},
   "source": [
    "### model - XGBClassifier, StratifiedFold, accuracy_score + feature engineering"
   ]
  },
  {
   "cell_type": "code",
   "execution_count": 87,
   "metadata": {
    "collapsed": false
   },
   "outputs": [
    {
     "name": "stderr",
     "output_type": "stream",
     "text": [
      "/home/jupyter/anaconda3/lib/python3.6/site-packages/sklearn/preprocessing/label.py:151: DeprecationWarning: The truth value of an empty array is ambiguous. Returning False, but in future this will result in an error. Use `array.size > 0` to check that an array is not empty.\n",
      "  if diff:\n",
      "/home/jupyter/anaconda3/lib/python3.6/site-packages/sklearn/preprocessing/label.py:151: DeprecationWarning: The truth value of an empty array is ambiguous. Returning False, but in future this will result in an error. Use `array.size > 0` to check that an array is not empty.\n",
      "  if diff:\n",
      "/home/jupyter/anaconda3/lib/python3.6/site-packages/sklearn/preprocessing/label.py:151: DeprecationWarning: The truth value of an empty array is ambiguous. Returning False, but in future this will result in an error. Use `array.size > 0` to check that an array is not empty.\n",
      "  if diff:\n"
     ]
    },
    {
     "name": "stdout",
     "output_type": "stream",
     "text": [
      "(0.8357850705335658, 0.003435874807342396)\n"
     ]
    },
    {
     "name": "stderr",
     "output_type": "stream",
     "text": [
      "/home/jupyter/anaconda3/lib/python3.6/site-packages/sklearn/preprocessing/label.py:151: DeprecationWarning: The truth value of an empty array is ambiguous. Returning False, but in future this will result in an error. Use `array.size > 0` to check that an array is not empty.\n",
      "  if diff:\n"
     ]
    }
   ],
   "source": [
    "model = xgb.XGBClassifier(max_depth=10, n_estimators=100, learning_rate=0.1)\n",
    "\n",
    "def score():\n",
    "    scores = []\n",
    "    for train_idx, test_idx in cv.split(y):\n",
    "        model.fit(X[train_idx], y[train_idx])\n",
    "        y_pred = model.predict(X[test_idx])\n",
    "\n",
    "        score = accuracy_score(y[test_idx], y_pred )\n",
    "        scores.append(score)\n",
    "    return (np.mean(scores), np.std(scores))\n",
    "\n",
    "print(score())"
   ]
  },
  {
   "cell_type": "code",
   "execution_count": 90,
   "metadata": {
    "collapsed": false
   },
   "outputs": [
    {
     "name": "stdout",
     "output_type": "stream",
     "text": [
      "[0]\tvalidation_0-error:0.189107\tvalidation_1-error:0.192114\n",
      "[1]\tvalidation_0-error:0.184234\tvalidation_1-error:0.18806\n",
      "[2]\tvalidation_0-error:0.184889\tvalidation_1-error:0.18806\n",
      "[3]\tvalidation_0-error:0.184889\tvalidation_1-error:0.18806\n",
      "[4]\tvalidation_0-error:0.180016\tvalidation_1-error:0.184007\n",
      "[5]\tvalidation_0-error:0.180016\tvalidation_1-error:0.184007\n",
      "[6]\tvalidation_0-error:0.180016\tvalidation_1-error:0.184007\n",
      "[7]\tvalidation_0-error:0.179975\tvalidation_1-error:0.184007\n",
      "[8]\tvalidation_0-error:0.179975\tvalidation_1-error:0.184007\n",
      "[9]\tvalidation_0-error:0.17973\tvalidation_1-error:0.184253\n",
      "[10]\tvalidation_0-error:0.179812\tvalidation_1-error:0.184007\n",
      "[11]\tvalidation_0-error:0.180098\tvalidation_1-error:0.187569\n",
      "[12]\tvalidation_0-error:0.175225\tvalidation_1-error:0.182533\n",
      "[13]\tvalidation_0-error:0.175676\tvalidation_1-error:0.184621\n",
      "[14]\tvalidation_0-error:0.175348\tvalidation_1-error:0.184498\n",
      "[15]\tvalidation_0-error:0.175348\tvalidation_1-error:0.184498\n",
      "[16]\tvalidation_0-error:0.174898\tvalidation_1-error:0.18241\n",
      "[17]\tvalidation_0-error:0.174816\tvalidation_1-error:0.18241\n",
      "[18]\tvalidation_0-error:0.174816\tvalidation_1-error:0.18241\n",
      "[19]\tvalidation_0-error:0.174406\tvalidation_1-error:0.181305\n",
      "[20]\tvalidation_0-error:0.174201\tvalidation_1-error:0.181796\n",
      "[21]\tvalidation_0-error:0.171212\tvalidation_1-error:0.181182\n",
      "[22]\tvalidation_0-error:0.173342\tvalidation_1-error:0.179708\n",
      "[23]\tvalidation_0-error:0.170475\tvalidation_1-error:0.180076\n",
      "[24]\tvalidation_0-error:0.170352\tvalidation_1-error:0.179339\n",
      "[25]\tvalidation_0-error:0.169779\tvalidation_1-error:0.177128\n",
      "[26]\tvalidation_0-error:0.169697\tvalidation_1-error:0.177251\n",
      "[27]\tvalidation_0-error:0.16855\tvalidation_1-error:0.1759\n",
      "[28]\tvalidation_0-error:0.168755\tvalidation_1-error:0.175531\n",
      "[29]\tvalidation_0-error:0.168632\tvalidation_1-error:0.175408\n",
      "[30]\tvalidation_0-error:0.168305\tvalidation_1-error:0.174549\n",
      "[31]\tvalidation_0-error:0.167977\tvalidation_1-error:0.173934\n",
      "[32]\tvalidation_0-error:0.168182\tvalidation_1-error:0.174671\n",
      "[33]\tvalidation_0-error:0.168305\tvalidation_1-error:0.174794\n",
      "[34]\tvalidation_0-error:0.168305\tvalidation_1-error:0.174794\n",
      "[35]\tvalidation_0-error:0.168264\tvalidation_1-error:0.174794\n",
      "[36]\tvalidation_0-error:0.166462\tvalidation_1-error:0.171969\n",
      "[37]\tvalidation_0-error:0.166011\tvalidation_1-error:0.171478\n",
      "[38]\tvalidation_0-error:0.166052\tvalidation_1-error:0.171601\n",
      "[39]\tvalidation_0-error:0.166052\tvalidation_1-error:0.171355\n",
      "[40]\tvalidation_0-error:0.166134\tvalidation_1-error:0.171478\n",
      "[41]\tvalidation_0-error:0.166011\tvalidation_1-error:0.171601\n",
      "[42]\tvalidation_0-error:0.16593\tvalidation_1-error:0.171232\n",
      "[43]\tvalidation_0-error:0.164947\tvalidation_1-error:0.169512\n",
      "[44]\tvalidation_0-error:0.166093\tvalidation_1-error:0.171232\n",
      "[45]\tvalidation_0-error:0.165111\tvalidation_1-error:0.169512\n",
      "[46]\tvalidation_0-error:0.164988\tvalidation_1-error:0.169512\n",
      "[47]\tvalidation_0-error:0.165111\tvalidation_1-error:0.169512\n",
      "[48]\tvalidation_0-error:0.165029\tvalidation_1-error:0.169512\n",
      "[49]\tvalidation_0-error:0.164865\tvalidation_1-error:0.169144\n",
      "[50]\tvalidation_0-error:0.165029\tvalidation_1-error:0.169512\n",
      "[51]\tvalidation_0-error:0.165029\tvalidation_1-error:0.169267\n",
      "[52]\tvalidation_0-error:0.164988\tvalidation_1-error:0.168653\n",
      "[53]\tvalidation_0-error:0.164824\tvalidation_1-error:0.16853\n",
      "[54]\tvalidation_0-error:0.164578\tvalidation_1-error:0.168407\n",
      "[55]\tvalidation_0-error:0.164455\tvalidation_1-error:0.168161\n",
      "[56]\tvalidation_0-error:0.164333\tvalidation_1-error:0.167915\n",
      "[57]\tvalidation_0-error:0.164333\tvalidation_1-error:0.167915\n",
      "[58]\tvalidation_0-error:0.164373\tvalidation_1-error:0.168161\n",
      "[59]\tvalidation_0-error:0.164169\tvalidation_1-error:0.167301\n",
      "[60]\tvalidation_0-error:0.164005\tvalidation_1-error:0.167301\n",
      "[61]\tvalidation_0-error:0.163759\tvalidation_1-error:0.167178\n",
      "[62]\tvalidation_0-error:0.163718\tvalidation_1-error:0.167178\n",
      "[63]\tvalidation_0-error:0.163473\tvalidation_1-error:0.167178\n",
      "[64]\tvalidation_0-error:0.163145\tvalidation_1-error:0.16595\n",
      "[65]\tvalidation_0-error:0.163268\tvalidation_1-error:0.165827\n",
      "[66]\tvalidation_0-error:0.163022\tvalidation_1-error:0.165582\n",
      "[67]\tvalidation_0-error:0.162981\tvalidation_1-error:0.165336\n",
      "[68]\tvalidation_0-error:0.16208\tvalidation_1-error:0.165704\n",
      "[69]\tvalidation_0-error:0.162121\tvalidation_1-error:0.166196\n",
      "[70]\tvalidation_0-error:0.162203\tvalidation_1-error:0.166196\n",
      "[71]\tvalidation_0-error:0.162244\tvalidation_1-error:0.166564\n",
      "[72]\tvalidation_0-error:0.161835\tvalidation_1-error:0.166564\n",
      "[73]\tvalidation_0-error:0.161916\tvalidation_1-error:0.166319\n",
      "[74]\tvalidation_0-error:0.161507\tvalidation_1-error:0.166073\n",
      "[75]\tvalidation_0-error:0.161425\tvalidation_1-error:0.166319\n",
      "[76]\tvalidation_0-error:0.161425\tvalidation_1-error:0.165704\n",
      "[77]\tvalidation_0-error:0.161425\tvalidation_1-error:0.165336\n",
      "[78]\tvalidation_0-error:0.160975\tvalidation_1-error:0.164845\n",
      "[79]\tvalidation_0-error:0.160893\tvalidation_1-error:0.164845\n",
      "[80]\tvalidation_0-error:0.160606\tvalidation_1-error:0.164599\n",
      "[81]\tvalidation_0-error:0.160688\tvalidation_1-error:0.164476\n",
      "[82]\tvalidation_0-error:0.160688\tvalidation_1-error:0.164476\n",
      "[83]\tvalidation_0-error:0.160647\tvalidation_1-error:0.164108\n",
      "[84]\tvalidation_0-error:0.160524\tvalidation_1-error:0.163862\n",
      "[85]\tvalidation_0-error:0.160278\tvalidation_1-error:0.164108\n",
      "[86]\tvalidation_0-error:0.160238\tvalidation_1-error:0.163985\n",
      "[87]\tvalidation_0-error:0.160278\tvalidation_1-error:0.164108\n",
      "[88]\tvalidation_0-error:0.160319\tvalidation_1-error:0.163862\n",
      "[89]\tvalidation_0-error:0.160238\tvalidation_1-error:0.163739\n",
      "[90]\tvalidation_0-error:0.159992\tvalidation_1-error:0.163862\n",
      "[91]\tvalidation_0-error:0.159951\tvalidation_1-error:0.163616\n",
      "[92]\tvalidation_0-error:0.159582\tvalidation_1-error:0.163739\n",
      "[93]\tvalidation_0-error:0.159664\tvalidation_1-error:0.163739\n",
      "[94]\tvalidation_0-error:0.159787\tvalidation_1-error:0.163739\n",
      "[95]\tvalidation_0-error:0.159828\tvalidation_1-error:0.163862\n",
      "[96]\tvalidation_0-error:0.159787\tvalidation_1-error:0.163371\n",
      "[97]\tvalidation_0-error:0.159459\tvalidation_1-error:0.163248\n",
      "[98]\tvalidation_0-error:0.159419\tvalidation_1-error:0.163248\n",
      "[99]\tvalidation_0-error:0.159419\tvalidation_1-error:0.163125\n",
      "{'validation_0': {'error': [0.189107, 0.184234, 0.184889, 0.184889, 0.180016, 0.180016, 0.180016, 0.179975, 0.179975, 0.17973, 0.179812, 0.180098, 0.175225, 0.175676, 0.175348, 0.175348, 0.174898, 0.174816, 0.174816, 0.174406, 0.174201, 0.171212, 0.173342, 0.170475, 0.170352, 0.169779, 0.169697, 0.16855, 0.168755, 0.168632, 0.168305, 0.167977, 0.168182, 0.168305, 0.168305, 0.168264, 0.166462, 0.166011, 0.166052, 0.166052, 0.166134, 0.166011, 0.16593, 0.164947, 0.166093, 0.165111, 0.164988, 0.165111, 0.165029, 0.164865, 0.165029, 0.165029, 0.164988, 0.164824, 0.164578, 0.164455, 0.164333, 0.164333, 0.164373, 0.164169, 0.164005, 0.163759, 0.163718, 0.163473, 0.163145, 0.163268, 0.163022, 0.162981, 0.16208, 0.162121, 0.162203, 0.162244, 0.161835, 0.161916, 0.161507, 0.161425, 0.161425, 0.161425, 0.160975, 0.160893, 0.160606, 0.160688, 0.160688, 0.160647, 0.160524, 0.160278, 0.160238, 0.160278, 0.160319, 0.160238, 0.159992, 0.159951, 0.159582, 0.159664, 0.159787, 0.159828, 0.159787, 0.159459, 0.159419, 0.159419]}, 'validation_1': {'error': [0.192114, 0.18806, 0.18806, 0.18806, 0.184007, 0.184007, 0.184007, 0.184007, 0.184007, 0.184253, 0.184007, 0.187569, 0.182533, 0.184621, 0.184498, 0.184498, 0.18241, 0.18241, 0.18241, 0.181305, 0.181796, 0.181182, 0.179708, 0.180076, 0.179339, 0.177128, 0.177251, 0.1759, 0.175531, 0.175408, 0.174549, 0.173934, 0.174671, 0.174794, 0.174794, 0.174794, 0.171969, 0.171478, 0.171601, 0.171355, 0.171478, 0.171601, 0.171232, 0.169512, 0.171232, 0.169512, 0.169512, 0.169512, 0.169512, 0.169144, 0.169512, 0.169267, 0.168653, 0.16853, 0.168407, 0.168161, 0.167915, 0.167915, 0.168161, 0.167301, 0.167301, 0.167178, 0.167178, 0.167178, 0.16595, 0.165827, 0.165582, 0.165336, 0.165704, 0.166196, 0.166196, 0.166564, 0.166564, 0.166319, 0.166073, 0.166319, 0.165704, 0.165336, 0.164845, 0.164845, 0.164599, 0.164476, 0.164476, 0.164108, 0.163862, 0.164108, 0.163985, 0.164108, 0.163862, 0.163739, 0.163862, 0.163616, 0.163739, 0.163739, 0.163739, 0.163862, 0.163371, 0.163248, 0.163248, 0.163125]}}\n",
      "\n"
     ]
    },
    {
     "data": {
      "image/png": "[encoded data removed]",
      "text/plain": [
       "<Figure size 432x288 with 1 Axes>"
      ]
     },
     "metadata": {},
     "output_type": "display_data"
    },
    {
     "name": "stdout",
     "output_type": "stream",
     "text": [
      "[0]\tvalidation_0-error:0.190533\tvalidation_1-error:0.187838\n",
      "[1]\tvalidation_0-error:0.179067\tvalidation_1-error:0.178993\n",
      "[2]\tvalidation_0-error:0.185496\tvalidation_1-error:0.183415\n",
      "[3]\tvalidation_0-error:0.179272\tvalidation_1-error:0.178256\n",
      "[4]\tvalidation_0-error:0.184759\tvalidation_1-error:0.182555\n",
      "[5]\tvalidation_0-error:0.180992\tvalidation_1-error:0.179975\n",
      "[6]\tvalidation_0-error:0.181237\tvalidation_1-error:0.179975\n",
      "[7]\tvalidation_0-error:0.180623\tvalidation_1-error:0.178256\n",
      "[8]\tvalidation_0-error:0.181729\tvalidation_1-error:0.179361\n",
      "[9]\tvalidation_0-error:0.180296\tvalidation_1-error:0.17801\n",
      "[10]\tvalidation_0-error:0.182671\tvalidation_1-error:0.180835\n",
      "[11]\tvalidation_0-error:0.182302\tvalidation_1-error:0.17973\n",
      "[12]\tvalidation_0-error:0.183162\tvalidation_1-error:0.181327\n",
      "[13]\tvalidation_0-error:0.182753\tvalidation_1-error:0.179975\n",
      "[14]\tvalidation_0-error:0.179231\tvalidation_1-error:0.177518\n",
      "[15]\tvalidation_0-error:0.179231\tvalidation_1-error:0.177641\n",
      "[16]\tvalidation_0-error:0.177102\tvalidation_1-error:0.177027\n",
      "[17]\tvalidation_0-error:0.17485\tvalidation_1-error:0.175184\n",
      "[18]\tvalidation_0-error:0.174809\tvalidation_1-error:0.174939\n",
      "[19]\tvalidation_0-error:0.174809\tvalidation_1-error:0.174939\n",
      "[20]\tvalidation_0-error:0.174235\tvalidation_1-error:0.175061\n",
      "[21]\tvalidation_0-error:0.172515\tvalidation_1-error:0.174447\n",
      "[22]\tvalidation_0-error:0.174235\tvalidation_1-error:0.174816\n",
      "[23]\tvalidation_0-error:0.172475\tvalidation_1-error:0.174324\n",
      "[24]\tvalidation_0-error:0.169895\tvalidation_1-error:0.172604\n",
      "[25]\tvalidation_0-error:0.170018\tvalidation_1-error:0.172604\n",
      "[26]\tvalidation_0-error:0.169772\tvalidation_1-error:0.172359\n",
      "[27]\tvalidation_0-error:0.168912\tvalidation_1-error:0.172359\n",
      "[28]\tvalidation_0-error:0.168666\tvalidation_1-error:0.172482\n",
      "[29]\tvalidation_0-error:0.168625\tvalidation_1-error:0.172236\n",
      "[30]\tvalidation_0-error:0.169076\tvalidation_1-error:0.172113\n",
      "[31]\tvalidation_0-error:0.168216\tvalidation_1-error:0.172113\n",
      "[32]\tvalidation_0-error:0.168093\tvalidation_1-error:0.171867\n",
      "[33]\tvalidation_0-error:0.168093\tvalidation_1-error:0.172236\n",
      "[34]\tvalidation_0-error:0.168011\tvalidation_1-error:0.171376\n",
      "[35]\tvalidation_0-error:0.168052\tvalidation_1-error:0.171744\n",
      "[36]\tvalidation_0-error:0.168052\tvalidation_1-error:0.171622\n",
      "[37]\tvalidation_0-error:0.167356\tvalidation_1-error:0.170516\n",
      "[38]\tvalidation_0-error:0.167069\tvalidation_1-error:0.171007\n",
      "[39]\tvalidation_0-error:0.167192\tvalidation_1-error:0.170762\n",
      "[40]\tvalidation_0-error:0.166946\tvalidation_1-error:0.169779\n",
      "[41]\tvalidation_0-error:0.166906\tvalidation_1-error:0.169902\n",
      "[42]\tvalidation_0-error:0.166824\tvalidation_1-error:0.169656\n",
      "[43]\tvalidation_0-error:0.16666\tvalidation_1-error:0.169779\n",
      "[44]\tvalidation_0-error:0.166783\tvalidation_1-error:0.169779\n",
      "[45]\tvalidation_0-error:0.165186\tvalidation_1-error:0.16941\n",
      "[46]\tvalidation_0-error:0.165227\tvalidation_1-error:0.169656\n",
      "[47]\tvalidation_0-error:0.165309\tvalidation_1-error:0.170147\n",
      "[48]\tvalidation_0-error:0.165309\tvalidation_1-error:0.169902\n",
      "[49]\tvalidation_0-error:0.165186\tvalidation_1-error:0.170025\n",
      "[50]\tvalidation_0-error:0.164653\tvalidation_1-error:0.170516\n",
      "[51]\tvalidation_0-error:0.16449\tvalidation_1-error:0.169779\n",
      "[52]\tvalidation_0-error:0.164571\tvalidation_1-error:0.169656\n",
      "[53]\tvalidation_0-error:0.164776\tvalidation_1-error:0.169779\n",
      "[54]\tvalidation_0-error:0.164612\tvalidation_1-error:0.169656\n",
      "[55]\tvalidation_0-error:0.164244\tvalidation_1-error:0.169287\n",
      "[56]\tvalidation_0-error:0.164162\tvalidation_1-error:0.169287\n",
      "[57]\tvalidation_0-error:0.163957\tvalidation_1-error:0.169042\n",
      "[58]\tvalidation_0-error:0.163875\tvalidation_1-error:0.169042\n",
      "[59]\tvalidation_0-error:0.163671\tvalidation_1-error:0.168919\n",
      "[60]\tvalidation_0-error:0.163548\tvalidation_1-error:0.168673\n",
      "[61]\tvalidation_0-error:0.163589\tvalidation_1-error:0.169042\n",
      "[62]\tvalidation_0-error:0.163302\tvalidation_1-error:0.168919\n",
      "[63]\tvalidation_0-error:0.163179\tvalidation_1-error:0.168796\n",
      "[64]\tvalidation_0-error:0.163302\tvalidation_1-error:0.168796\n",
      "[65]\tvalidation_0-error:0.163261\tvalidation_1-error:0.168919\n",
      "[66]\tvalidation_0-error:0.162852\tvalidation_1-error:0.169165\n",
      "[67]\tvalidation_0-error:0.162156\tvalidation_1-error:0.168305\n",
      "[68]\tvalidation_0-error:0.162196\tvalidation_1-error:0.168182\n",
      "[69]\tvalidation_0-error:0.162074\tvalidation_1-error:0.167813\n",
      "[70]\tvalidation_0-error:0.161787\tvalidation_1-error:0.167936\n",
      "[71]\tvalidation_0-error:0.161541\tvalidation_1-error:0.168059\n",
      "[72]\tvalidation_0-error:0.161296\tvalidation_1-error:0.168305\n",
      "[73]\tvalidation_0-error:0.161582\tvalidation_1-error:0.16855\n",
      "[74]\tvalidation_0-error:0.161664\tvalidation_1-error:0.16855\n",
      "[75]\tvalidation_0-error:0.161337\tvalidation_1-error:0.168305\n",
      "[76]\tvalidation_0-error:0.161255\tvalidation_1-error:0.168182\n",
      "[77]\tvalidation_0-error:0.161214\tvalidation_1-error:0.167813\n",
      "[78]\tvalidation_0-error:0.16105\tvalidation_1-error:0.168059\n",
      "[79]\tvalidation_0-error:0.160845\tvalidation_1-error:0.167936\n",
      "[80]\tvalidation_0-error:0.16105\tvalidation_1-error:0.168059\n",
      "[81]\tvalidation_0-error:0.160722\tvalidation_1-error:0.167936\n",
      "[82]\tvalidation_0-error:0.160108\tvalidation_1-error:0.166953\n",
      "[83]\tvalidation_0-error:0.159412\tvalidation_1-error:0.167076\n",
      "[84]\tvalidation_0-error:0.160067\tvalidation_1-error:0.167445\n",
      "[85]\tvalidation_0-error:0.15974\tvalidation_1-error:0.167568\n",
      "[86]\tvalidation_0-error:0.159617\tvalidation_1-error:0.167199\n",
      "[87]\tvalidation_0-error:0.15933\tvalidation_1-error:0.166708\n",
      "[88]\tvalidation_0-error:0.159125\tvalidation_1-error:0.166462\n",
      "[89]\tvalidation_0-error:0.159084\tvalidation_1-error:0.166216\n",
      "[90]\tvalidation_0-error:0.159043\tvalidation_1-error:0.166339\n",
      "[91]\tvalidation_0-error:0.159043\tvalidation_1-error:0.166339\n",
      "[92]\tvalidation_0-error:0.158716\tvalidation_1-error:0.166339\n",
      "[93]\tvalidation_0-error:0.158716\tvalidation_1-error:0.166462\n",
      "[94]\tvalidation_0-error:0.158839\tvalidation_1-error:0.166585\n",
      "[95]\tvalidation_0-error:0.158798\tvalidation_1-error:0.166585\n",
      "[96]\tvalidation_0-error:0.158675\tvalidation_1-error:0.167199\n",
      "[97]\tvalidation_0-error:0.158511\tvalidation_1-error:0.166708\n",
      "[98]\tvalidation_0-error:0.158184\tvalidation_1-error:0.166462\n",
      "[99]\tvalidation_0-error:0.158184\tvalidation_1-error:0.166585\n",
      "{'validation_0': {'error': [0.190533, 0.179067, 0.185496, 0.179272, 0.184759, 0.180992, 0.181237, 0.180623, 0.181729, 0.180296, 0.182671, 0.182302, 0.183162, 0.182753, 0.179231, 0.179231, 0.177102, 0.17485, 0.174809, 0.174809, 0.174235, 0.172515, 0.174235, 0.172475, 0.169895, 0.170018, 0.169772, 0.168912, 0.168666, 0.168625, 0.169076, 0.168216, 0.168093, 0.168093, 0.168011, 0.168052, 0.168052, 0.167356, 0.167069, 0.167192, 0.166946, 0.166906, 0.166824, 0.16666, 0.166783, 0.165186, 0.165227, 0.165309, 0.165309, 0.165186, 0.164653, 0.16449, 0.164571, 0.164776, 0.164612, 0.164244, 0.164162, 0.163957, 0.163875, 0.163671, 0.163548, 0.163589, 0.163302, 0.163179, 0.163302, 0.163261, 0.162852, 0.162156, 0.162196, 0.162074, 0.161787, 0.161541, 0.161296, 0.161582, 0.161664, 0.161337, 0.161255, 0.161214, 0.16105, 0.160845, 0.16105, 0.160722, 0.160108, 0.159412, 0.160067, 0.15974, 0.159617, 0.15933, 0.159125, 0.159084, 0.159043, 0.159043, 0.158716, 0.158716, 0.158839, 0.158798, 0.158675, 0.158511, 0.158184, 0.158184]}, 'validation_1': {'error': [0.187838, 0.178993, 0.183415, 0.178256, 0.182555, 0.179975, 0.179975, 0.178256, 0.179361, 0.17801, 0.180835, 0.17973, 0.181327, 0.179975, 0.177518, 0.177641, 0.177027, 0.175184, 0.174939, 0.174939, 0.175061, 0.174447, 0.174816, 0.174324, 0.172604, 0.172604, 0.172359, 0.172359, 0.172482, 0.172236, 0.172113, 0.172113, 0.171867, 0.172236, 0.171376, 0.171744, 0.171622, 0.170516, 0.171007, 0.170762, 0.169779, 0.169902, 0.169656, 0.169779, 0.169779, 0.16941, 0.169656, 0.170147, 0.169902, 0.170025, 0.170516, 0.169779, 0.169656, 0.169779, 0.169656, 0.169287, 0.169287, 0.169042, 0.169042, 0.168919, 0.168673, 0.169042, 0.168919, 0.168796, 0.168796, 0.168919, 0.169165, 0.168305, 0.168182, 0.167813, 0.167936, 0.168059, 0.168305, 0.16855, 0.16855, 0.168305, 0.168182, 0.167813, 0.168059, 0.167936, 0.168059, 0.167936, 0.166953, 0.167076, 0.167445, 0.167568, 0.167199, 0.166708, 0.166462, 0.166216, 0.166339, 0.166339, 0.166339, 0.166462, 0.166585, 0.166585, 0.167199, 0.166708, 0.166462, 0.166585]}}\n",
      "\n"
     ]
    },
    {
     "data": {
      "image/png": "[encoded data removed]",
      "text/plain": [
       "<Figure size 432x288 with 1 Axes>"
      ]
     },
     "metadata": {},
     "output_type": "display_data"
    },
    {
     "name": "stdout",
     "output_type": "stream",
     "text": [
      "[0]\tvalidation_0-error:0.190041\tvalidation_1-error:0.189312\n",
      "[1]\tvalidation_0-error:0.179436\tvalidation_1-error:0.177396\n",
      "[2]\tvalidation_0-error:0.186233\tvalidation_1-error:0.184029\n",
      "[3]\tvalidation_0-error:0.179436\tvalidation_1-error:0.177396\n",
      "[4]\tvalidation_0-error:0.18177\tvalidation_1-error:0.17887\n",
      "[5]\tvalidation_0-error:0.179763\tvalidation_1-error:0.178133\n",
      "[6]\tvalidation_0-error:0.182097\tvalidation_1-error:0.179607\n",
      "[7]\tvalidation_0-error:0.182015\tvalidation_1-error:0.17973\n",
      "[8]\tvalidation_0-error:0.181852\tvalidation_1-error:0.179361\n",
      "[9]\tvalidation_0-error:0.18177\tvalidation_1-error:0.179361\n",
      "[10]\tvalidation_0-error:0.18177\tvalidation_1-error:0.179361\n",
      "[11]\tvalidation_0-error:0.18177\tvalidation_1-error:0.179361\n",
      "[12]\tvalidation_0-error:0.18177\tvalidation_1-error:0.179361\n",
      "[13]\tvalidation_0-error:0.181729\tvalidation_1-error:0.179361\n",
      "[14]\tvalidation_0-error:0.17788\tvalidation_1-error:0.174939\n",
      "[15]\tvalidation_0-error:0.176856\tvalidation_1-error:0.174079\n",
      "[16]\tvalidation_0-error:0.176365\tvalidation_1-error:0.173342\n",
      "[17]\tvalidation_0-error:0.176365\tvalidation_1-error:0.173342\n",
      "[18]\tvalidation_0-error:0.176365\tvalidation_1-error:0.173219\n",
      "[19]\tvalidation_0-error:0.176528\tvalidation_1-error:0.173219\n",
      "[20]\tvalidation_0-error:0.175955\tvalidation_1-error:0.173096\n",
      "[21]\tvalidation_0-error:0.175996\tvalidation_1-error:0.17285\n",
      "[22]\tvalidation_0-error:0.176119\tvalidation_1-error:0.17285\n",
      "[23]\tvalidation_0-error:0.174112\tvalidation_1-error:0.171007\n",
      "[24]\tvalidation_0-error:0.174604\tvalidation_1-error:0.171376\n",
      "[25]\tvalidation_0-error:0.171942\tvalidation_1-error:0.169165\n",
      "[26]\tvalidation_0-error:0.170673\tvalidation_1-error:0.167813\n",
      "[27]\tvalidation_0-error:0.170673\tvalidation_1-error:0.167322\n",
      "[28]\tvalidation_0-error:0.170837\tvalidation_1-error:0.166216\n",
      "[29]\tvalidation_0-error:0.170263\tvalidation_1-error:0.167322\n",
      "[30]\tvalidation_0-error:0.170345\tvalidation_1-error:0.167445\n",
      "[31]\tvalidation_0-error:0.16969\tvalidation_1-error:0.166339\n",
      "[32]\tvalidation_0-error:0.169731\tvalidation_1-error:0.166093\n",
      "[33]\tvalidation_0-error:0.16969\tvalidation_1-error:0.166093\n",
      "[34]\tvalidation_0-error:0.169281\tvalidation_1-error:0.165233\n",
      "[35]\tvalidation_0-error:0.169076\tvalidation_1-error:0.166093\n",
      "[36]\tvalidation_0-error:0.168912\tvalidation_1-error:0.166216\n",
      "[37]\tvalidation_0-error:0.169117\tvalidation_1-error:0.165971\n",
      "[38]\tvalidation_0-error:0.169076\tvalidation_1-error:0.166339\n",
      "[39]\tvalidation_0-error:0.168707\tvalidation_1-error:0.165848\n",
      "[40]\tvalidation_0-error:0.168666\tvalidation_1-error:0.165725\n",
      "[41]\tvalidation_0-error:0.168748\tvalidation_1-error:0.165848\n",
      "[42]\tvalidation_0-error:0.168748\tvalidation_1-error:0.165848\n",
      "[43]\tvalidation_0-error:0.167725\tvalidation_1-error:0.164251\n",
      "[44]\tvalidation_0-error:0.167602\tvalidation_1-error:0.164373\n",
      "[45]\tvalidation_0-error:0.167479\tvalidation_1-error:0.164251\n",
      "[46]\tvalidation_0-error:0.167233\tvalidation_1-error:0.164005\n",
      "[47]\tvalidation_0-error:0.16752\tvalidation_1-error:0.163882\n",
      "[48]\tvalidation_0-error:0.16752\tvalidation_1-error:0.163514\n",
      "[49]\tvalidation_0-error:0.167315\tvalidation_1-error:0.163514\n",
      "[50]\tvalidation_0-error:0.167438\tvalidation_1-error:0.163636\n",
      "[51]\tvalidation_0-error:0.167479\tvalidation_1-error:0.163514\n",
      "[52]\tvalidation_0-error:0.16711\tvalidation_1-error:0.163882\n",
      "[53]\tvalidation_0-error:0.167233\tvalidation_1-error:0.162654\n",
      "[54]\tvalidation_0-error:0.166865\tvalidation_1-error:0.162039\n",
      "[55]\tvalidation_0-error:0.16666\tvalidation_1-error:0.162654\n",
      "[56]\tvalidation_0-error:0.166496\tvalidation_1-error:0.162776\n",
      "[57]\tvalidation_0-error:0.166455\tvalidation_1-error:0.160934\n",
      "[58]\tvalidation_0-error:0.166005\tvalidation_1-error:0.160442\n",
      "[59]\tvalidation_0-error:0.165882\tvalidation_1-error:0.160197\n",
      "[60]\tvalidation_0-error:0.166087\tvalidation_1-error:0.160565\n",
      "[61]\tvalidation_0-error:0.165841\tvalidation_1-error:0.160442\n",
      "[62]\tvalidation_0-error:0.165759\tvalidation_1-error:0.160565\n",
      "[63]\tvalidation_0-error:0.165513\tvalidation_1-error:0.160688\n",
      "[64]\tvalidation_0-error:0.165636\tvalidation_1-error:0.160688\n",
      "[65]\tvalidation_0-error:0.165636\tvalidation_1-error:0.160688\n",
      "[66]\tvalidation_0-error:0.165104\tvalidation_1-error:0.160565\n",
      "[67]\tvalidation_0-error:0.165022\tvalidation_1-error:0.160811\n",
      "[68]\tvalidation_0-error:0.165186\tvalidation_1-error:0.160688\n",
      "[69]\tvalidation_0-error:0.164408\tvalidation_1-error:0.161179\n",
      "[70]\tvalidation_0-error:0.164244\tvalidation_1-error:0.160811\n",
      "[71]\tvalidation_0-error:0.164039\tvalidation_1-error:0.161302\n",
      "[72]\tvalidation_0-error:0.163753\tvalidation_1-error:0.161548\n",
      "[73]\tvalidation_0-error:0.163834\tvalidation_1-error:0.161302\n",
      "[74]\tvalidation_0-error:0.163712\tvalidation_1-error:0.161794\n",
      "[75]\tvalidation_0-error:0.163302\tvalidation_1-error:0.161671\n",
      "[76]\tvalidation_0-error:0.163261\tvalidation_1-error:0.161548\n",
      "[77]\tvalidation_0-error:0.163097\tvalidation_1-error:0.161548\n",
      "[78]\tvalidation_0-error:0.162565\tvalidation_1-error:0.160319\n",
      "[79]\tvalidation_0-error:0.162524\tvalidation_1-error:0.160442\n",
      "[80]\tvalidation_0-error:0.162729\tvalidation_1-error:0.159951\n",
      "[81]\tvalidation_0-error:0.16277\tvalidation_1-error:0.160074\n",
      "[82]\tvalidation_0-error:0.162688\tvalidation_1-error:0.159828\n",
      "[83]\tvalidation_0-error:0.162524\tvalidation_1-error:0.159951\n",
      "[84]\tvalidation_0-error:0.162196\tvalidation_1-error:0.160319\n",
      "[85]\tvalidation_0-error:0.161992\tvalidation_1-error:0.159828\n",
      "[86]\tvalidation_0-error:0.162524\tvalidation_1-error:0.160442\n",
      "[87]\tvalidation_0-error:0.162319\tvalidation_1-error:0.160319\n",
      "[88]\tvalidation_0-error:0.16236\tvalidation_1-error:0.160074\n",
      "[89]\tvalidation_0-error:0.162196\tvalidation_1-error:0.160074\n",
      "[90]\tvalidation_0-error:0.162156\tvalidation_1-error:0.160074\n",
      "[91]\tvalidation_0-error:0.162196\tvalidation_1-error:0.159951\n",
      "[92]\tvalidation_0-error:0.162156\tvalidation_1-error:0.160074\n",
      "[93]\tvalidation_0-error:0.161255\tvalidation_1-error:0.158477\n",
      "[94]\tvalidation_0-error:0.161337\tvalidation_1-error:0.158354\n",
      "[95]\tvalidation_0-error:0.161787\tvalidation_1-error:0.158968\n",
      "[96]\tvalidation_0-error:0.161869\tvalidation_1-error:0.158845\n",
      "[97]\tvalidation_0-error:0.161132\tvalidation_1-error:0.15774\n",
      "[98]\tvalidation_0-error:0.16105\tvalidation_1-error:0.15774\n",
      "[99]\tvalidation_0-error:0.161214\tvalidation_1-error:0.157371\n",
      "{'validation_0': {'error': [0.190041, 0.179436, 0.186233, 0.179436, 0.18177, 0.179763, 0.182097, 0.182015, 0.181852, 0.18177, 0.18177, 0.18177, 0.18177, 0.181729, 0.17788, 0.176856, 0.176365, 0.176365, 0.176365, 0.176528, 0.175955, 0.175996, 0.176119, 0.174112, 0.174604, 0.171942, 0.170673, 0.170673, 0.170837, 0.170263, 0.170345, 0.16969, 0.169731, 0.16969, 0.169281, 0.169076, 0.168912, 0.169117, 0.169076, 0.168707, 0.168666, 0.168748, 0.168748, 0.167725, 0.167602, 0.167479, 0.167233, 0.16752, 0.16752, 0.167315, 0.167438, 0.167479, 0.16711, 0.167233, 0.166865, 0.16666, 0.166496, 0.166455, 0.166005, 0.165882, 0.166087, 0.165841, 0.165759, 0.165513, 0.165636, 0.165636, 0.165104, 0.165022, 0.165186, 0.164408, 0.164244, 0.164039, 0.163753, 0.163834, 0.163712, 0.163302, 0.163261, 0.163097, 0.162565, 0.162524, 0.162729, 0.16277, 0.162688, 0.162524, 0.162196, 0.161992, 0.162524, 0.162319, 0.16236, 0.162196, 0.162156, 0.162196, 0.162156, 0.161255, 0.161337, 0.161787, 0.161869, 0.161132, 0.16105, 0.161214]}, 'validation_1': {'error': [0.189312, 0.177396, 0.184029, 0.177396, 0.17887, 0.178133, 0.179607, 0.17973, 0.179361, 0.179361, 0.179361, 0.179361, 0.179361, 0.179361, 0.174939, 0.174079, 0.173342, 0.173342, 0.173219, 0.173219, 0.173096, 0.17285, 0.17285, 0.171007, 0.171376, 0.169165, 0.167813, 0.167322, 0.166216, 0.167322, 0.167445, 0.166339, 0.166093, 0.166093, 0.165233, 0.166093, 0.166216, 0.165971, 0.166339, 0.165848, 0.165725, 0.165848, 0.165848, 0.164251, 0.164373, 0.164251, 0.164005, 0.163882, 0.163514, 0.163514, 0.163636, 0.163514, 0.163882, 0.162654, 0.162039, 0.162654, 0.162776, 0.160934, 0.160442, 0.160197, 0.160565, 0.160442, 0.160565, 0.160688, 0.160688, 0.160688, 0.160565, 0.160811, 0.160688, 0.161179, 0.160811, 0.161302, 0.161548, 0.161302, 0.161794, 0.161671, 0.161548, 0.161548, 0.160319, 0.160442, 0.159951, 0.160074, 0.159828, 0.159951, 0.160319, 0.159828, 0.160442, 0.160319, 0.160074, 0.160074, 0.160074, 0.159951, 0.160074, 0.158477, 0.158354, 0.158968, 0.158845, 0.15774, 0.15774, 0.157371]}}\n",
      "\n"
     ]
    },
    {
     "data": {
      "image/png": "[encoded data removed]",
      "text/plain": [
       "<Figure size 432x288 with 1 Axes>"
      ]
     },
     "metadata": {},
     "output_type": "display_data"
    },
    {
     "name": "stdout",
     "output_type": "stream",
     "text": [
      "[0]\tvalidation_0-error:0.183694\tvalidation_1-error:0.184767\n",
      "[1]\tvalidation_0-error:0.182957\tvalidation_1-error:0.183907\n",
      "[2]\tvalidation_0-error:0.178617\tvalidation_1-error:0.180221\n",
      "[3]\tvalidation_0-error:0.178617\tvalidation_1-error:0.180221\n",
      "[4]\tvalidation_0-error:0.178453\tvalidation_1-error:0.179853\n",
      "[5]\tvalidation_0-error:0.178535\tvalidation_1-error:0.179853\n",
      "[6]\tvalidation_0-error:0.178453\tvalidation_1-error:0.179853\n",
      "[7]\tvalidation_0-error:0.178453\tvalidation_1-error:0.179853\n",
      "[8]\tvalidation_0-error:0.180418\tvalidation_1-error:0.181941\n",
      "[9]\tvalidation_0-error:0.1796\tvalidation_1-error:0.181081\n",
      "[10]\tvalidation_0-error:0.179518\tvalidation_1-error:0.181081\n",
      "[11]\tvalidation_0-error:0.180132\tvalidation_1-error:0.181204\n",
      "[12]\tvalidation_0-error:0.180132\tvalidation_1-error:0.181204\n",
      "[13]\tvalidation_0-error:0.177429\tvalidation_1-error:0.17629\n",
      "[14]\tvalidation_0-error:0.17661\tvalidation_1-error:0.17543\n",
      "[15]\tvalidation_0-error:0.175791\tvalidation_1-error:0.174816\n",
      "[16]\tvalidation_0-error:0.175791\tvalidation_1-error:0.174816\n",
      "[17]\tvalidation_0-error:0.175505\tvalidation_1-error:0.17457\n",
      "[18]\tvalidation_0-error:0.175382\tvalidation_1-error:0.174693\n",
      "[19]\tvalidation_0-error:0.175382\tvalidation_1-error:0.17457\n",
      "[20]\tvalidation_0-error:0.175341\tvalidation_1-error:0.17457\n",
      "[21]\tvalidation_0-error:0.174972\tvalidation_1-error:0.174447\n",
      "[22]\tvalidation_0-error:0.175013\tvalidation_1-error:0.174447\n",
      "[23]\tvalidation_0-error:0.175464\tvalidation_1-error:0.17457\n",
      "[24]\tvalidation_0-error:0.172925\tvalidation_1-error:0.17113\n",
      "[25]\tvalidation_0-error:0.172925\tvalidation_1-error:0.17113\n",
      "[26]\tvalidation_0-error:0.17272\tvalidation_1-error:0.170885\n",
      "[27]\tvalidation_0-error:0.172229\tvalidation_1-error:0.170393\n",
      "[28]\tvalidation_0-error:0.172352\tvalidation_1-error:0.170516\n",
      "[29]\tvalidation_0-error:0.171246\tvalidation_1-error:0.16941\n",
      "[30]\tvalidation_0-error:0.169526\tvalidation_1-error:0.168673\n",
      "[31]\tvalidation_0-error:0.169444\tvalidation_1-error:0.168182\n",
      "[32]\tvalidation_0-error:0.169362\tvalidation_1-error:0.168428\n",
      "[33]\tvalidation_0-error:0.169403\tvalidation_1-error:0.168182\n",
      "[34]\tvalidation_0-error:0.169403\tvalidation_1-error:0.168059\n",
      "[35]\tvalidation_0-error:0.169117\tvalidation_1-error:0.168059\n",
      "[36]\tvalidation_0-error:0.169117\tvalidation_1-error:0.168059\n",
      "[37]\tvalidation_0-error:0.169076\tvalidation_1-error:0.168059\n",
      "[38]\tvalidation_0-error:0.169158\tvalidation_1-error:0.168182\n",
      "[39]\tvalidation_0-error:0.168953\tvalidation_1-error:0.168305\n",
      "[40]\tvalidation_0-error:0.168789\tvalidation_1-error:0.168305\n",
      "[41]\tvalidation_0-error:0.168298\tvalidation_1-error:0.167936\n",
      "[42]\tvalidation_0-error:0.168134\tvalidation_1-error:0.16769\n",
      "[43]\tvalidation_0-error:0.168216\tvalidation_1-error:0.167568\n",
      "[44]\tvalidation_0-error:0.168175\tvalidation_1-error:0.168182\n",
      "[45]\tvalidation_0-error:0.168175\tvalidation_1-error:0.167936\n",
      "[46]\tvalidation_0-error:0.16797\tvalidation_1-error:0.167568\n",
      "[47]\tvalidation_0-error:0.166865\tvalidation_1-error:0.167199\n",
      "[48]\tvalidation_0-error:0.166906\tvalidation_1-error:0.166708\n",
      "[49]\tvalidation_0-error:0.166865\tvalidation_1-error:0.166708\n",
      "[50]\tvalidation_0-error:0.166742\tvalidation_1-error:0.16683\n",
      "[51]\tvalidation_0-error:0.166865\tvalidation_1-error:0.166953\n",
      "[52]\tvalidation_0-error:0.166291\tvalidation_1-error:0.166953\n",
      "[53]\tvalidation_0-error:0.166005\tvalidation_1-error:0.167568\n",
      "[54]\tvalidation_0-error:0.165882\tvalidation_1-error:0.167199\n",
      "[55]\tvalidation_0-error:0.166005\tvalidation_1-error:0.166462\n",
      "[56]\tvalidation_0-error:0.165964\tvalidation_1-error:0.166216\n",
      "[57]\tvalidation_0-error:0.165964\tvalidation_1-error:0.166093\n",
      "[58]\tvalidation_0-error:0.165636\tvalidation_1-error:0.165602\n",
      "[59]\tvalidation_0-error:0.165513\tvalidation_1-error:0.165602\n",
      "[60]\tvalidation_0-error:0.165349\tvalidation_1-error:0.165356\n",
      "[61]\tvalidation_0-error:0.165186\tvalidation_1-error:0.165356\n",
      "[62]\tvalidation_0-error:0.165268\tvalidation_1-error:0.165233\n",
      "[63]\tvalidation_0-error:0.165268\tvalidation_1-error:0.165233\n",
      "[64]\tvalidation_0-error:0.16494\tvalidation_1-error:0.164742\n",
      "[65]\tvalidation_0-error:0.164653\tvalidation_1-error:0.164128\n",
      "[66]\tvalidation_0-error:0.164653\tvalidation_1-error:0.164128\n",
      "[67]\tvalidation_0-error:0.16449\tvalidation_1-error:0.163882\n",
      "[68]\tvalidation_0-error:0.16449\tvalidation_1-error:0.163882\n",
      "[69]\tvalidation_0-error:0.16408\tvalidation_1-error:0.163514\n",
      "[70]\tvalidation_0-error:0.164203\tvalidation_1-error:0.163882\n",
      "[71]\tvalidation_0-error:0.164039\tvalidation_1-error:0.163759\n",
      "[72]\tvalidation_0-error:0.163957\tvalidation_1-error:0.163759\n",
      "[73]\tvalidation_0-error:0.163793\tvalidation_1-error:0.163759\n",
      "[74]\tvalidation_0-error:0.163466\tvalidation_1-error:0.162162\n",
      "[75]\tvalidation_0-error:0.163384\tvalidation_1-error:0.162039\n",
      "[76]\tvalidation_0-error:0.16363\tvalidation_1-error:0.162285\n",
      "[77]\tvalidation_0-error:0.163343\tvalidation_1-error:0.162039\n",
      "[78]\tvalidation_0-error:0.162893\tvalidation_1-error:0.161057\n",
      "[79]\tvalidation_0-error:0.162893\tvalidation_1-error:0.161179\n",
      "[80]\tvalidation_0-error:0.16322\tvalidation_1-error:0.162408\n",
      "[81]\tvalidation_0-error:0.162729\tvalidation_1-error:0.161548\n",
      "[82]\tvalidation_0-error:0.162524\tvalidation_1-error:0.161302\n",
      "[83]\tvalidation_0-error:0.162401\tvalidation_1-error:0.161179\n",
      "[84]\tvalidation_0-error:0.16236\tvalidation_1-error:0.161057\n",
      "[85]\tvalidation_0-error:0.162401\tvalidation_1-error:0.160688\n",
      "[86]\tvalidation_0-error:0.16236\tvalidation_1-error:0.160442\n",
      "[87]\tvalidation_0-error:0.162852\tvalidation_1-error:0.161302\n",
      "[88]\tvalidation_0-error:0.162278\tvalidation_1-error:0.160565\n",
      "[89]\tvalidation_0-error:0.162196\tvalidation_1-error:0.160197\n",
      "[90]\tvalidation_0-error:0.162237\tvalidation_1-error:0.160197\n",
      "[91]\tvalidation_0-error:0.16236\tvalidation_1-error:0.159828\n",
      "[92]\tvalidation_0-error:0.16236\tvalidation_1-error:0.159705\n",
      "[93]\tvalidation_0-error:0.162115\tvalidation_1-error:0.159582\n",
      "[94]\tvalidation_0-error:0.162156\tvalidation_1-error:0.159582\n",
      "[95]\tvalidation_0-error:0.162278\tvalidation_1-error:0.159951\n",
      "[96]\tvalidation_0-error:0.162033\tvalidation_1-error:0.159705\n",
      "[97]\tvalidation_0-error:0.162115\tvalidation_1-error:0.159459\n",
      "[98]\tvalidation_0-error:0.162115\tvalidation_1-error:0.159828\n",
      "[99]\tvalidation_0-error:0.162115\tvalidation_1-error:0.159459\n",
      "{'validation_0': {'error': [0.183694, 0.182957, 0.178617, 0.178617, 0.178453, 0.178535, 0.178453, 0.178453, 0.180418, 0.1796, 0.179518, 0.180132, 0.180132, 0.177429, 0.17661, 0.175791, 0.175791, 0.175505, 0.175382, 0.175382, 0.175341, 0.174972, 0.175013, 0.175464, 0.172925, 0.172925, 0.17272, 0.172229, 0.172352, 0.171246, 0.169526, 0.169444, 0.169362, 0.169403, 0.169403, 0.169117, 0.169117, 0.169076, 0.169158, 0.168953, 0.168789, 0.168298, 0.168134, 0.168216, 0.168175, 0.168175, 0.16797, 0.166865, 0.166906, 0.166865, 0.166742, 0.166865, 0.166291, 0.166005, 0.165882, 0.166005, 0.165964, 0.165964, 0.165636, 0.165513, 0.165349, 0.165186, 0.165268, 0.165268, 0.16494, 0.164653, 0.164653, 0.16449, 0.16449, 0.16408, 0.164203, 0.164039, 0.163957, 0.163793, 0.163466, 0.163384, 0.16363, 0.163343, 0.162893, 0.162893, 0.16322, 0.162729, 0.162524, 0.162401, 0.16236, 0.162401, 0.16236, 0.162852, 0.162278, 0.162196, 0.162237, 0.16236, 0.16236, 0.162115, 0.162156, 0.162278, 0.162033, 0.162115, 0.162115, 0.162115]}, 'validation_1': {'error': [0.184767, 0.183907, 0.180221, 0.180221, 0.179853, 0.179853, 0.179853, 0.179853, 0.181941, 0.181081, 0.181081, 0.181204, 0.181204, 0.17629, 0.17543, 0.174816, 0.174816, 0.17457, 0.174693, 0.17457, 0.17457, 0.174447, 0.174447, 0.17457, 0.17113, 0.17113, 0.170885, 0.170393, 0.170516, 0.16941, 0.168673, 0.168182, 0.168428, 0.168182, 0.168059, 0.168059, 0.168059, 0.168059, 0.168182, 0.168305, 0.168305, 0.167936, 0.16769, 0.167568, 0.168182, 0.167936, 0.167568, 0.167199, 0.166708, 0.166708, 0.16683, 0.166953, 0.166953, 0.167568, 0.167199, 0.166462, 0.166216, 0.166093, 0.165602, 0.165602, 0.165356, 0.165356, 0.165233, 0.165233, 0.164742, 0.164128, 0.164128, 0.163882, 0.163882, 0.163514, 0.163882, 0.163759, 0.163759, 0.163759, 0.162162, 0.162039, 0.162285, 0.162039, 0.161057, 0.161179, 0.162408, 0.161548, 0.161302, 0.161179, 0.161057, 0.160688, 0.160442, 0.161302, 0.160565, 0.160197, 0.160197, 0.159828, 0.159705, 0.159582, 0.159582, 0.159951, 0.159705, 0.159459, 0.159828, 0.159459]}}\n",
      "\n"
     ]
    },
    {
     "data": {
      "image/png": "[encoded data removed]",
      "text/plain": [
       "<Figure size 432x288 with 1 Axes>"
      ]
     },
     "metadata": {},
     "output_type": "display_data"
    }
   ],
   "source": [
    "cv = StratifiedKFold(n_splits=4, random_state=2018)\n",
    "\n",
    "for train_idx, test_idx in cv.split(X, y):\n",
    "    model = xgb.XGBClassifier(n_estimators=100)\n",
    "    \n",
    "    eval_set = [\n",
    "        (X[train_idx], y[train_idx]), \n",
    "        (X[test_idx],  y[test_idx]) \n",
    "    ]\n",
    "    \n",
    "    model.fit(X[train_idx], y[train_idx], eval_metric=\"error\", eval_set=eval_set, verbose=True)    \n",
    "    \n",
    "    evals_result = model.evals_result()\n",
    "    print(evals_result)\n",
    "    print(\"\")\n",
    "   \n",
    "    plt.title(\"Learning curve\")\n",
    "    plt.xlabel(\"# estimators\")\n",
    "    plt.ylabel(\"Error\")\n",
    "    plt.plot( model.evals_result_['validation_0']['error'], label='train' )\n",
    "    plt.plot( model.evals_result_['validation_1']['error'], label='test' )\n",
    "    plt.legend(loc='best')\n",
    "    plt.show()"
   ]
  },
  {
   "cell_type": "code",
   "execution_count": 89,
   "metadata": {
    "collapsed": false
   },
   "outputs": [
    {
     "name": "stderr",
     "output_type": "stream",
     "text": [
      "/home/jupyter/anaconda3/lib/python3.6/site-packages/sklearn/preprocessing/label.py:151: DeprecationWarning: The truth value of an empty array is ambiguous. Returning False, but in future this will result in an error. Use `array.size > 0` to check that an array is not empty.\n",
      "  if diff:\n",
      "/home/jupyter/anaconda3/lib/python3.6/site-packages/sklearn/preprocessing/label.py:151: DeprecationWarning: The truth value of an empty array is ambiguous. Returning False, but in future this will result in an error. Use `array.size > 0` to check that an array is not empty.\n",
      "  if diff:\n",
      "/home/jupyter/anaconda3/lib/python3.6/site-packages/sklearn/preprocessing/label.py:151: DeprecationWarning: The truth value of an empty array is ambiguous. Returning False, but in future this will result in an error. Use `array.size > 0` to check that an array is not empty.\n",
      "  if diff:\n",
      "/home/jupyter/anaconda3/lib/python3.6/site-packages/sklearn/preprocessing/label.py:151: DeprecationWarning: The truth value of an empty array is ambiguous. Returning False, but in future this will result in an error. Use `array.size > 0` to check that an array is not empty.\n",
      "  if diff:\n"
     ]
    },
    {
     "name": "stdout",
     "output_type": "stream",
     "text": [
      "SCORE 0.8386105403624751 {'max_depth': 11, 'colsample_bytree': 0.94111795271863, 'learning_rate': 0.11448409314890705, 'subsample': 0.7800165580561367, 'seed': 550, 'min_child_weight': 9, 'reg_alpha': 1.5174332105109611, 'reg_lambda': 0.7166823640800536, 'n_estimators': 100}\n"
     ]
    },
    {
     "name": "stderr",
     "output_type": "stream",
     "text": [
      "/home/jupyter/anaconda3/lib/python3.6/site-packages/sklearn/preprocessing/label.py:151: DeprecationWarning: The truth value of an empty array is ambiguous. Returning False, but in future this will result in an error. Use `array.size > 0` to check that an array is not empty.\n",
      "  if diff:\n",
      "/home/jupyter/anaconda3/lib/python3.6/site-packages/sklearn/preprocessing/label.py:151: DeprecationWarning: The truth value of an empty array is ambiguous. Returning False, but in future this will result in an error. Use `array.size > 0` to check that an array is not empty.\n",
      "  if diff:\n",
      "/home/jupyter/anaconda3/lib/python3.6/site-packages/sklearn/preprocessing/label.py:151: DeprecationWarning: The truth value of an empty array is ambiguous. Returning False, but in future this will result in an error. Use `array.size > 0` to check that an array is not empty.\n",
      "  if diff:\n",
      "/home/jupyter/anaconda3/lib/python3.6/site-packages/sklearn/preprocessing/label.py:151: DeprecationWarning: The truth value of an empty array is ambiguous. Returning False, but in future this will result in an error. Use `array.size > 0` to check that an array is not empty.\n",
      "  if diff:\n"
     ]
    },
    {
     "name": "stdout",
     "output_type": "stream",
     "text": [
      "SCORE 0.8383034188279244 {'max_depth': 10, 'colsample_bytree': 0.9552574339309767, 'learning_rate': 0.11012194136118862, 'subsample': 0.7717269386721538, 'seed': 50, 'min_child_weight': 10, 'reg_alpha': 1.5116209963185574, 'reg_lambda': 0.7101707953801186, 'n_estimators': 100}\n"
     ]
    },
    {
     "name": "stderr",
     "output_type": "stream",
     "text": [
      "/home/jupyter/anaconda3/lib/python3.6/site-packages/sklearn/preprocessing/label.py:151: DeprecationWarning: The truth value of an empty array is ambiguous. Returning False, but in future this will result in an error. Use `array.size > 0` to check that an array is not empty.\n",
      "  if diff:\n",
      "/home/jupyter/anaconda3/lib/python3.6/site-packages/sklearn/preprocessing/label.py:151: DeprecationWarning: The truth value of an empty array is ambiguous. Returning False, but in future this will result in an error. Use `array.size > 0` to check that an array is not empty.\n",
      "  if diff:\n",
      "/home/jupyter/anaconda3/lib/python3.6/site-packages/sklearn/preprocessing/label.py:151: DeprecationWarning: The truth value of an empty array is ambiguous. Returning False, but in future this will result in an error. Use `array.size > 0` to check that an array is not empty.\n",
      "  if diff:\n",
      "/home/jupyter/anaconda3/lib/python3.6/site-packages/sklearn/preprocessing/label.py:151: DeprecationWarning: The truth value of an empty array is ambiguous. Returning False, but in future this will result in an error. Use `array.size > 0` to check that an array is not empty.\n",
      "  if diff:\n"
     ]
    },
    {
     "name": "stdout",
     "output_type": "stream",
     "text": [
      "SCORE 0.8374434604228241 {'max_depth': 5, 'colsample_bytree': 0.9988928260950907, 'learning_rate': 0.05238128178386959, 'subsample': 0.7195935907315459, 'seed': 1300, 'min_child_weight': 10, 'reg_alpha': 1.008264115457851, 'reg_lambda': 0.7053174343725996, 'n_estimators': 100}\n"
     ]
    },
    {
     "name": "stderr",
     "output_type": "stream",
     "text": [
      "/home/jupyter/anaconda3/lib/python3.6/site-packages/sklearn/preprocessing/label.py:151: DeprecationWarning: The truth value of an empty array is ambiguous. Returning False, but in future this will result in an error. Use `array.size > 0` to check that an array is not empty.\n",
      "  if diff:\n",
      "/home/jupyter/anaconda3/lib/python3.6/site-packages/sklearn/preprocessing/label.py:151: DeprecationWarning: The truth value of an empty array is ambiguous. Returning False, but in future this will result in an error. Use `array.size > 0` to check that an array is not empty.\n",
      "  if diff:\n",
      "/home/jupyter/anaconda3/lib/python3.6/site-packages/sklearn/preprocessing/label.py:151: DeprecationWarning: The truth value of an empty array is ambiguous. Returning False, but in future this will result in an error. Use `array.size > 0` to check that an array is not empty.\n",
      "  if diff:\n",
      "/home/jupyter/anaconda3/lib/python3.6/site-packages/sklearn/preprocessing/label.py:151: DeprecationWarning: The truth value of an empty array is ambiguous. Returning False, but in future this will result in an error. Use `array.size > 0` to check that an array is not empty.\n",
      "  if diff:\n"
     ]
    },
    {
     "name": "stdout",
     "output_type": "stream",
     "text": [
      "SCORE 0.8363992834220693 {'max_depth': 20, 'colsample_bytree': 0.8076153765762613, 'learning_rate': 0.05179738582253955, 'subsample': 0.9887483630871278, 'seed': 9900, 'min_child_weight': 1, 'reg_alpha': 1.0276683665702862, 'reg_lambda': 0.9631729640788598, 'n_estimators': 100}\n"
     ]
    },
    {
     "name": "stderr",
     "output_type": "stream",
     "text": [
      "/home/jupyter/anaconda3/lib/python3.6/site-packages/sklearn/preprocessing/label.py:151: DeprecationWarning: The truth value of an empty array is ambiguous. Returning False, but in future this will result in an error. Use `array.size > 0` to check that an array is not empty.\n",
      "  if diff:\n",
      "/home/jupyter/anaconda3/lib/python3.6/site-packages/sklearn/preprocessing/label.py:151: DeprecationWarning: The truth value of an empty array is ambiguous. Returning False, but in future this will result in an error. Use `array.size > 0` to check that an array is not empty.\n",
      "  if diff:\n",
      "/home/jupyter/anaconda3/lib/python3.6/site-packages/sklearn/preprocessing/label.py:151: DeprecationWarning: The truth value of an empty array is ambiguous. Returning False, but in future this will result in an error. Use `array.size > 0` to check that an array is not empty.\n",
      "  if diff:\n",
      "/home/jupyter/anaconda3/lib/python3.6/site-packages/sklearn/preprocessing/label.py:151: DeprecationWarning: The truth value of an empty array is ambiguous. Returning False, but in future this will result in an error. Use `array.size > 0` to check that an array is not empty.\n",
      "  if diff:\n"
     ]
    },
    {
     "name": "stdout",
     "output_type": "stream",
     "text": [
      "SCORE 0.8364607348915174 {'max_depth': 20, 'colsample_bytree': 0.8102613676457141, 'learning_rate': 0.19361164343401388, 'subsample': 0.9932491358086682, 'seed': 7850, 'min_child_weight': 1, 'reg_alpha': 2.7118521063896264, 'reg_lambda': 0.9931247487739224, 'n_estimators': 100}\n"
     ]
    },
    {
     "name": "stderr",
     "output_type": "stream",
     "text": [
      "/home/jupyter/anaconda3/lib/python3.6/site-packages/sklearn/preprocessing/label.py:151: DeprecationWarning: The truth value of an empty array is ambiguous. Returning False, but in future this will result in an error. Use `array.size > 0` to check that an array is not empty.\n",
      "  if diff:\n",
      "/home/jupyter/anaconda3/lib/python3.6/site-packages/sklearn/preprocessing/label.py:151: DeprecationWarning: The truth value of an empty array is ambiguous. Returning False, but in future this will result in an error. Use `array.size > 0` to check that an array is not empty.\n",
      "  if diff:\n",
      "/home/jupyter/anaconda3/lib/python3.6/site-packages/sklearn/preprocessing/label.py:151: DeprecationWarning: The truth value of an empty array is ambiguous. Returning False, but in future this will result in an error. Use `array.size > 0` to check that an array is not empty.\n",
      "  if diff:\n",
      "/home/jupyter/anaconda3/lib/python3.6/site-packages/sklearn/preprocessing/label.py:151: DeprecationWarning: The truth value of an empty array is ambiguous. Returning False, but in future this will result in an error. Use `array.size > 0` to check that an array is not empty.\n",
      "  if diff:\n"
     ]
    },
    {
     "name": "stdout",
     "output_type": "stream",
     "text": [
      "SCORE 0.8367985123681598 {'max_depth': 20, 'colsample_bytree': 0.811787977874919, 'learning_rate': 0.05115378343836079, 'subsample': 0.9935928253760493, 'seed': 9950, 'min_child_weight': 1, 'reg_alpha': 1.0087953427455962, 'reg_lambda': 0.9886977424736635, 'n_estimators': 100}\n"
     ]
    },
    {
     "name": "stderr",
     "output_type": "stream",
     "text": [
      "/home/jupyter/anaconda3/lib/python3.6/site-packages/sklearn/preprocessing/label.py:151: DeprecationWarning: The truth value of an empty array is ambiguous. Returning False, but in future this will result in an error. Use `array.size > 0` to check that an array is not empty.\n",
      "  if diff:\n",
      "/home/jupyter/anaconda3/lib/python3.6/site-packages/sklearn/preprocessing/label.py:151: DeprecationWarning: The truth value of an empty array is ambiguous. Returning False, but in future this will result in an error. Use `array.size > 0` to check that an array is not empty.\n",
      "  if diff:\n",
      "/home/jupyter/anaconda3/lib/python3.6/site-packages/sklearn/preprocessing/label.py:151: DeprecationWarning: The truth value of an empty array is ambiguous. Returning False, but in future this will result in an error. Use `array.size > 0` to check that an array is not empty.\n",
      "  if diff:\n",
      "/home/jupyter/anaconda3/lib/python3.6/site-packages/sklearn/preprocessing/label.py:151: DeprecationWarning: The truth value of an empty array is ambiguous. Returning False, but in future this will result in an error. Use `array.size > 0` to check that an array is not empty.\n",
      "  if diff:\n"
     ]
    },
    {
     "name": "stdout",
     "output_type": "stream",
     "text": [
      "SCORE 0.8367985651842058 {'max_depth': 16, 'colsample_bytree': 0.864149031305882, 'learning_rate': 0.1881406175178037, 'subsample': 0.9031811567887659, 'seed': 5600, 'min_child_weight': 4, 'reg_alpha': 2.2496366452642107, 'reg_lambda': 0.8733774952103914, 'n_estimators': 100}\n"
     ]
    },
    {
     "name": "stderr",
     "output_type": "stream",
     "text": [
      "/home/jupyter/anaconda3/lib/python3.6/site-packages/sklearn/preprocessing/label.py:151: DeprecationWarning: The truth value of an empty array is ambiguous. Returning False, but in future this will result in an error. Use `array.size > 0` to check that an array is not empty.\n",
      "  if diff:\n",
      "/home/jupyter/anaconda3/lib/python3.6/site-packages/sklearn/preprocessing/label.py:151: DeprecationWarning: The truth value of an empty array is ambiguous. Returning False, but in future this will result in an error. Use `array.size > 0` to check that an array is not empty.\n",
      "  if diff:\n",
      "/home/jupyter/anaconda3/lib/python3.6/site-packages/sklearn/preprocessing/label.py:151: DeprecationWarning: The truth value of an empty array is ambiguous. Returning False, but in future this will result in an error. Use `array.size > 0` to check that an array is not empty.\n",
      "  if diff:\n",
      "/home/jupyter/anaconda3/lib/python3.6/site-packages/sklearn/preprocessing/label.py:151: DeprecationWarning: The truth value of an empty array is ambiguous. Returning False, but in future this will result in an error. Use `array.size > 0` to check that an array is not empty.\n",
      "  if diff:\n"
     ]
    },
    {
     "name": "stdout",
     "output_type": "stream",
     "text": [
      "SCORE 0.837105679173607 {'max_depth': 16, 'colsample_bytree': 0.8622358207803242, 'learning_rate': 0.07781579040354529, 'subsample': 0.9029630812659815, 'seed': 9400, 'min_child_weight': 4, 'reg_alpha': 1.2477542246426343, 'reg_lambda': 0.8854920699203691, 'n_estimators': 100}\n"
     ]
    },
    {
     "name": "stderr",
     "output_type": "stream",
     "text": [
      "/home/jupyter/anaconda3/lib/python3.6/site-packages/sklearn/preprocessing/label.py:151: DeprecationWarning: The truth value of an empty array is ambiguous. Returning False, but in future this will result in an error. Use `array.size > 0` to check that an array is not empty.\n",
      "  if diff:\n",
      "/home/jupyter/anaconda3/lib/python3.6/site-packages/sklearn/preprocessing/label.py:151: DeprecationWarning: The truth value of an empty array is ambiguous. Returning False, but in future this will result in an error. Use `array.size > 0` to check that an array is not empty.\n",
      "  if diff:\n",
      "/home/jupyter/anaconda3/lib/python3.6/site-packages/sklearn/preprocessing/label.py:151: DeprecationWarning: The truth value of an empty array is ambiguous. Returning False, but in future this will result in an error. Use `array.size > 0` to check that an array is not empty.\n",
      "  if diff:\n",
      "/home/jupyter/anaconda3/lib/python3.6/site-packages/sklearn/preprocessing/label.py:151: DeprecationWarning: The truth value of an empty array is ambiguous. Returning False, but in future this will result in an error. Use `array.size > 0` to check that an array is not empty.\n",
      "  if diff:\n"
     ]
    },
    {
     "name": "stdout",
     "output_type": "stream",
     "text": [
      "SCORE 0.8369828630039291 {'max_depth': 16, 'colsample_bytree': 0.8573633870277528, 'learning_rate': 0.15124683228276367, 'subsample': 0.9105613146393042, 'seed': 3700, 'min_child_weight': 7, 'reg_alpha': 1.8986513738647715, 'reg_lambda': 0.9368533065639332, 'n_estimators': 100}\n"
     ]
    },
    {
     "name": "stderr",
     "output_type": "stream",
     "text": [
      "/home/jupyter/anaconda3/lib/python3.6/site-packages/sklearn/preprocessing/label.py:151: DeprecationWarning: The truth value of an empty array is ambiguous. Returning False, but in future this will result in an error. Use `array.size > 0` to check that an array is not empty.\n",
      "  if diff:\n",
      "/home/jupyter/anaconda3/lib/python3.6/site-packages/sklearn/preprocessing/label.py:151: DeprecationWarning: The truth value of an empty array is ambiguous. Returning False, but in future this will result in an error. Use `array.size > 0` to check that an array is not empty.\n",
      "  if diff:\n",
      "/home/jupyter/anaconda3/lib/python3.6/site-packages/sklearn/preprocessing/label.py:151: DeprecationWarning: The truth value of an empty array is ambiguous. Returning False, but in future this will result in an error. Use `array.size > 0` to check that an array is not empty.\n",
      "  if diff:\n",
      "/home/jupyter/anaconda3/lib/python3.6/site-packages/sklearn/preprocessing/label.py:151: DeprecationWarning: The truth value of an empty array is ambiguous. Returning False, but in future this will result in an error. Use `array.size > 0` to check that an array is not empty.\n",
      "  if diff:\n"
     ]
    },
    {
     "name": "stdout",
     "output_type": "stream",
     "text": [
      "SCORE 0.8390098598503586 {'max_depth': 6, 'colsample_bytree': 0.9081939092965279, 'learning_rate': 0.08324336073331892, 'subsample': 0.9991647796625648, 'seed': 6850, 'min_child_weight': 3, 'reg_alpha': 1.216743326588039, 'reg_lambda': 0.8063369054732408, 'n_estimators': 100}\n"
     ]
    },
    {
     "name": "stderr",
     "output_type": "stream",
     "text": [
      "/home/jupyter/anaconda3/lib/python3.6/site-packages/sklearn/preprocessing/label.py:151: DeprecationWarning: The truth value of an empty array is ambiguous. Returning False, but in future this will result in an error. Use `array.size > 0` to check that an array is not empty.\n",
      "  if diff:\n",
      "/home/jupyter/anaconda3/lib/python3.6/site-packages/sklearn/preprocessing/label.py:151: DeprecationWarning: The truth value of an empty array is ambiguous. Returning False, but in future this will result in an error. Use `array.size > 0` to check that an array is not empty.\n",
      "  if diff:\n",
      "/home/jupyter/anaconda3/lib/python3.6/site-packages/sklearn/preprocessing/label.py:151: DeprecationWarning: The truth value of an empty array is ambiguous. Returning False, but in future this will result in an error. Use `array.size > 0` to check that an array is not empty.\n",
      "  if diff:\n",
      "/home/jupyter/anaconda3/lib/python3.6/site-packages/sklearn/preprocessing/label.py:151: DeprecationWarning: The truth value of an empty array is ambiguous. Returning False, but in future this will result in an error. Use `array.size > 0` to check that an array is not empty.\n",
      "  if diff:\n"
     ]
    },
    {
     "name": "stdout",
     "output_type": "stream",
     "text": [
      "SCORE 0.8367371401227807 {'max_depth': 18, 'colsample_bytree': 0.8215088276976861, 'learning_rate': 0.1511535276177056, 'subsample': 0.8505237795728915, 'seed': 3400, 'min_child_weight': 7, 'reg_alpha': 1.2178669464197043, 'reg_lambda': 0.7928674490139758, 'n_estimators': 100}\n"
     ]
    },
    {
     "name": "stderr",
     "output_type": "stream",
     "text": [
      "/home/jupyter/anaconda3/lib/python3.6/site-packages/sklearn/preprocessing/label.py:151: DeprecationWarning: The truth value of an empty array is ambiguous. Returning False, but in future this will result in an error. Use `array.size > 0` to check that an array is not empty.\n",
      "  if diff:\n",
      "/home/jupyter/anaconda3/lib/python3.6/site-packages/sklearn/preprocessing/label.py:151: DeprecationWarning: The truth value of an empty array is ambiguous. Returning False, but in future this will result in an error. Use `array.size > 0` to check that an array is not empty.\n",
      "  if diff:\n",
      "/home/jupyter/anaconda3/lib/python3.6/site-packages/sklearn/preprocessing/label.py:151: DeprecationWarning: The truth value of an empty array is ambiguous. Returning False, but in future this will result in an error. Use `array.size > 0` to check that an array is not empty.\n",
      "  if diff:\n",
      "/home/jupyter/anaconda3/lib/python3.6/site-packages/sklearn/preprocessing/label.py:151: DeprecationWarning: The truth value of an empty array is ambiguous. Returning False, but in future this will result in an error. Use `array.size > 0` to check that an array is not empty.\n",
      "  if diff:\n"
     ]
    },
    {
     "name": "stdout",
     "output_type": "stream",
     "text": [
      "SCORE 0.8386412981640841 {'max_depth': 8, 'colsample_bytree': 0.997545726141869, 'learning_rate': 0.08029254441761441, 'subsample': 0.9397893285175047, 'seed': 8200, 'min_child_weight': 2, 'reg_alpha': 1.7965751839042952, 'reg_lambda': 0.9400329834827454, 'n_estimators': 100}\n"
     ]
    },
    {
     "name": "stderr",
     "output_type": "stream",
     "text": [
      "/home/jupyter/anaconda3/lib/python3.6/site-packages/sklearn/preprocessing/label.py:151: DeprecationWarning: The truth value of an empty array is ambiguous. Returning False, but in future this will result in an error. Use `array.size > 0` to check that an array is not empty.\n",
      "  if diff:\n",
      "/home/jupyter/anaconda3/lib/python3.6/site-packages/sklearn/preprocessing/label.py:151: DeprecationWarning: The truth value of an empty array is ambiguous. Returning False, but in future this will result in an error. Use `array.size > 0` to check that an array is not empty.\n",
      "  if diff:\n",
      "/home/jupyter/anaconda3/lib/python3.6/site-packages/sklearn/preprocessing/label.py:151: DeprecationWarning: The truth value of an empty array is ambiguous. Returning False, but in future this will result in an error. Use `array.size > 0` to check that an array is not empty.\n",
      "  if diff:\n",
      "/home/jupyter/anaconda3/lib/python3.6/site-packages/sklearn/preprocessing/label.py:151: DeprecationWarning: The truth value of an empty array is ambiguous. Returning False, but in future this will result in an error. Use `array.size > 0` to check that an array is not empty.\n",
      "  if diff:\n"
     ]
    },
    {
     "name": "stdout",
     "output_type": "stream",
     "text": [
      "SCORE 0.8374127856178587 {'max_depth': 14, 'colsample_bytree': 0.8980550027790276, 'learning_rate': 0.1427964968441916, 'subsample': 0.8358187745172386, 'seed': 5400, 'min_child_weight': 6, 'reg_alpha': 2.3560285464647337, 'reg_lambda': 0.8017344057122017, 'n_estimators': 100}\n"
     ]
    },
    {
     "name": "stderr",
     "output_type": "stream",
     "text": [
      "/home/jupyter/anaconda3/lib/python3.6/site-packages/sklearn/preprocessing/label.py:151: DeprecationWarning: The truth value of an empty array is ambiguous. Returning False, but in future this will result in an error. Use `array.size > 0` to check that an array is not empty.\n",
      "  if diff:\n",
      "/home/jupyter/anaconda3/lib/python3.6/site-packages/sklearn/preprocessing/label.py:151: DeprecationWarning: The truth value of an empty array is ambiguous. Returning False, but in future this will result in an error. Use `array.size > 0` to check that an array is not empty.\n",
      "  if diff:\n",
      "/home/jupyter/anaconda3/lib/python3.6/site-packages/sklearn/preprocessing/label.py:151: DeprecationWarning: The truth value of an empty array is ambiguous. Returning False, but in future this will result in an error. Use `array.size > 0` to check that an array is not empty.\n",
      "  if diff:\n",
      "/home/jupyter/anaconda3/lib/python3.6/site-packages/sklearn/preprocessing/label.py:151: DeprecationWarning: The truth value of an empty array is ambiguous. Returning False, but in future this will result in an error. Use `array.size > 0` to check that an array is not empty.\n",
      "  if diff:\n"
     ]
    },
    {
     "name": "stdout",
     "output_type": "stream",
     "text": [
      "SCORE 0.8367985651842058 {'max_depth': 13, 'colsample_bytree': 0.8358753544199525, 'learning_rate': 0.0501550835884297, 'subsample': 0.9563593253556476, 'seed': 9950, 'min_child_weight': 5, 'reg_alpha': 1.0847137595125296, 'reg_lambda': 0.9388475502079854, 'n_estimators': 100}\n"
     ]
    },
    {
     "name": "stderr",
     "output_type": "stream",
     "text": [
      "/home/jupyter/anaconda3/lib/python3.6/site-packages/sklearn/preprocessing/label.py:151: DeprecationWarning: The truth value of an empty array is ambiguous. Returning False, but in future this will result in an error. Use `array.size > 0` to check that an array is not empty.\n",
      "  if diff:\n",
      "/home/jupyter/anaconda3/lib/python3.6/site-packages/sklearn/preprocessing/label.py:151: DeprecationWarning: The truth value of an empty array is ambiguous. Returning False, but in future this will result in an error. Use `array.size > 0` to check that an array is not empty.\n",
      "  if diff:\n",
      "/home/jupyter/anaconda3/lib/python3.6/site-packages/sklearn/preprocessing/label.py:151: DeprecationWarning: The truth value of an empty array is ambiguous. Returning False, but in future this will result in an error. Use `array.size > 0` to check that an array is not empty.\n",
      "  if diff:\n",
      "/home/jupyter/anaconda3/lib/python3.6/site-packages/sklearn/preprocessing/label.py:151: DeprecationWarning: The truth value of an empty array is ambiguous. Returning False, but in future this will result in an error. Use `array.size > 0` to check that an array is not empty.\n",
      "  if diff:\n"
     ]
    },
    {
     "name": "stdout",
     "output_type": "stream",
     "text": [
      "SCORE 0.834679442063363 {'max_depth': 19, 'colsample_bytree': 0.9040387442608679, 'learning_rate': 0.17658712291478856, 'subsample': 0.8497694018004582, 'seed': 3500, 'min_child_weight': 2, 'reg_alpha': 1.408676364018335, 'reg_lambda': 0.7546356739655622, 'n_estimators': 100}\n"
     ]
    },
    {
     "name": "stderr",
     "output_type": "stream",
     "text": [
      "/home/jupyter/anaconda3/lib/python3.6/site-packages/sklearn/preprocessing/label.py:151: DeprecationWarning: The truth value of an empty array is ambiguous. Returning False, but in future this will result in an error. Use `array.size > 0` to check that an array is not empty.\n",
      "  if diff:\n",
      "/home/jupyter/anaconda3/lib/python3.6/site-packages/sklearn/preprocessing/label.py:151: DeprecationWarning: The truth value of an empty array is ambiguous. Returning False, but in future this will result in an error. Use `array.size > 0` to check that an array is not empty.\n",
      "  if diff:\n",
      "/home/jupyter/anaconda3/lib/python3.6/site-packages/sklearn/preprocessing/label.py:151: DeprecationWarning: The truth value of an empty array is ambiguous. Returning False, but in future this will result in an error. Use `array.size > 0` to check that an array is not empty.\n",
      "  if diff:\n",
      "/home/jupyter/anaconda3/lib/python3.6/site-packages/sklearn/preprocessing/label.py:151: DeprecationWarning: The truth value of an empty array is ambiguous. Returning False, but in future this will result in an error. Use `array.size > 0` to check that an array is not empty.\n",
      "  if diff:\n"
     ]
    },
    {
     "name": "stdout",
     "output_type": "stream",
     "text": [
      "SCORE 0.8365528687110803 {'max_depth': 18, 'colsample_bytree': 0.9680140869933817, 'learning_rate': 0.17664511621450038, 'subsample': 0.7022562446533094, 'seed': 2150, 'min_child_weight': 8, 'reg_alpha': 1.3866521170465953, 'reg_lambda': 0.7553393343826783, 'n_estimators': 100}\n"
     ]
    },
    {
     "name": "stderr",
     "output_type": "stream",
     "text": [
      "/home/jupyter/anaconda3/lib/python3.6/site-packages/sklearn/preprocessing/label.py:151: DeprecationWarning: The truth value of an empty array is ambiguous. Returning False, but in future this will result in an error. Use `array.size > 0` to check that an array is not empty.\n",
      "  if diff:\n",
      "/home/jupyter/anaconda3/lib/python3.6/site-packages/sklearn/preprocessing/label.py:151: DeprecationWarning: The truth value of an empty array is ambiguous. Returning False, but in future this will result in an error. Use `array.size > 0` to check that an array is not empty.\n",
      "  if diff:\n",
      "/home/jupyter/anaconda3/lib/python3.6/site-packages/sklearn/preprocessing/label.py:151: DeprecationWarning: The truth value of an empty array is ambiguous. Returning False, but in future this will result in an error. Use `array.size > 0` to check that an array is not empty.\n",
      "  if diff:\n",
      "/home/jupyter/anaconda3/lib/python3.6/site-packages/sklearn/preprocessing/label.py:151: DeprecationWarning: The truth value of an empty array is ambiguous. Returning False, but in future this will result in an error. Use `array.size > 0` to check that an array is not empty.\n",
      "  if diff:\n"
     ]
    },
    {
     "name": "stdout",
     "output_type": "stream",
     "text": [
      "SCORE 0.8375663030005248 {'max_depth': 11, 'colsample_bytree': 0.9062485315466701, 'learning_rate': 0.16613069062225067, 'subsample': 0.8288941179732346, 'seed': 3850, 'min_child_weight': 3, 'reg_alpha': 2.1986021550904917, 'reg_lambda': 0.7522407914116183, 'n_estimators': 100}\n"
     ]
    },
    {
     "name": "stderr",
     "output_type": "stream",
     "text": [
      "/home/jupyter/anaconda3/lib/python3.6/site-packages/sklearn/preprocessing/label.py:151: DeprecationWarning: The truth value of an empty array is ambiguous. Returning False, but in future this will result in an error. Use `array.size > 0` to check that an array is not empty.\n",
      "  if diff:\n",
      "/home/jupyter/anaconda3/lib/python3.6/site-packages/sklearn/preprocessing/label.py:151: DeprecationWarning: The truth value of an empty array is ambiguous. Returning False, but in future this will result in an error. Use `array.size > 0` to check that an array is not empty.\n",
      "  if diff:\n",
      "/home/jupyter/anaconda3/lib/python3.6/site-packages/sklearn/preprocessing/label.py:151: DeprecationWarning: The truth value of an empty array is ambiguous. Returning False, but in future this will result in an error. Use `array.size > 0` to check that an array is not empty.\n",
      "  if diff:\n",
      "/home/jupyter/anaconda3/lib/python3.6/site-packages/sklearn/preprocessing/label.py:151: DeprecationWarning: The truth value of an empty array is ambiguous. Returning False, but in future this will result in an error. Use `array.size > 0` to check that an array is not empty.\n",
      "  if diff:\n"
     ]
    },
    {
     "name": "stdout",
     "output_type": "stream",
     "text": [
      "SCORE 0.8348329858540521 {'max_depth': 19, 'colsample_bytree': 0.8884736495212097, 'learning_rate': 0.13229509642056536, 'subsample': 0.8682436308138359, 'seed': 2500, 'min_child_weight': 2, 'reg_alpha': 1.1254989281338914, 'reg_lambda': 0.8373584909962843, 'n_estimators': 100}\n"
     ]
    },
    {
     "name": "stderr",
     "output_type": "stream",
     "text": [
      "/home/jupyter/anaconda3/lib/python3.6/site-packages/sklearn/preprocessing/label.py:151: DeprecationWarning: The truth value of an empty array is ambiguous. Returning False, but in future this will result in an error. Use `array.size > 0` to check that an array is not empty.\n",
      "  if diff:\n",
      "/home/jupyter/anaconda3/lib/python3.6/site-packages/sklearn/preprocessing/label.py:151: DeprecationWarning: The truth value of an empty array is ambiguous. Returning False, but in future this will result in an error. Use `array.size > 0` to check that an array is not empty.\n",
      "  if diff:\n",
      "/home/jupyter/anaconda3/lib/python3.6/site-packages/sklearn/preprocessing/label.py:151: DeprecationWarning: The truth value of an empty array is ambiguous. Returning False, but in future this will result in an error. Use `array.size > 0` to check that an array is not empty.\n",
      "  if diff:\n",
      "/home/jupyter/anaconda3/lib/python3.6/site-packages/sklearn/preprocessing/label.py:151: DeprecationWarning: The truth value of an empty array is ambiguous. Returning False, but in future this will result in an error. Use `array.size > 0` to check that an array is not empty.\n",
      "  if diff:\n"
     ]
    },
    {
     "name": "stdout",
     "output_type": "stream",
     "text": [
      "SCORE 0.8352014947242806 {'max_depth': 18, 'colsample_bytree': 0.886205618324299, 'learning_rate': 0.12970836191382393, 'subsample': 0.8667010601216123, 'seed': 2350, 'min_child_weight': 2, 'reg_alpha': 1.3680186045572145, 'reg_lambda': 0.8300941892242116, 'n_estimators': 100}\n"
     ]
    },
    {
     "name": "stderr",
     "output_type": "stream",
     "text": [
      "/home/jupyter/anaconda3/lib/python3.6/site-packages/sklearn/preprocessing/label.py:151: DeprecationWarning: The truth value of an empty array is ambiguous. Returning False, but in future this will result in an error. Use `array.size > 0` to check that an array is not empty.\n",
      "  if diff:\n",
      "/home/jupyter/anaconda3/lib/python3.6/site-packages/sklearn/preprocessing/label.py:151: DeprecationWarning: The truth value of an empty array is ambiguous. Returning False, but in future this will result in an error. Use `array.size > 0` to check that an array is not empty.\n",
      "  if diff:\n",
      "/home/jupyter/anaconda3/lib/python3.6/site-packages/sklearn/preprocessing/label.py:151: DeprecationWarning: The truth value of an empty array is ambiguous. Returning False, but in future this will result in an error. Use `array.size > 0` to check that an array is not empty.\n",
      "  if diff:\n",
      "/home/jupyter/anaconda3/lib/python3.6/site-packages/sklearn/preprocessing/label.py:151: DeprecationWarning: The truth value of an empty array is ambiguous. Returning False, but in future this will result in an error. Use `array.size > 0` to check that an array is not empty.\n",
      "  if diff:\n"
     ]
    },
    {
     "name": "stdout",
     "output_type": "stream",
     "text": [
      "SCORE 0.8346794232004894 {'max_depth': 19, 'colsample_bytree': 0.9293427136632586, 'learning_rate': 0.1677358871072555, 'subsample': 0.7938305770793138, 'seed': 2600, 'min_child_weight': 2, 'reg_alpha': 1.1352869330881696, 'reg_lambda': 0.7592070095177786, 'n_estimators': 100}\n"
     ]
    },
    {
     "name": "stderr",
     "output_type": "stream",
     "text": [
      "/home/jupyter/anaconda3/lib/python3.6/site-packages/sklearn/preprocessing/label.py:151: DeprecationWarning: The truth value of an empty array is ambiguous. Returning False, but in future this will result in an error. Use `array.size > 0` to check that an array is not empty.\n",
      "  if diff:\n",
      "/home/jupyter/anaconda3/lib/python3.6/site-packages/sklearn/preprocessing/label.py:151: DeprecationWarning: The truth value of an empty array is ambiguous. Returning False, but in future this will result in an error. Use `array.size > 0` to check that an array is not empty.\n",
      "  if diff:\n",
      "/home/jupyter/anaconda3/lib/python3.6/site-packages/sklearn/preprocessing/label.py:151: DeprecationWarning: The truth value of an empty array is ambiguous. Returning False, but in future this will result in an error. Use `array.size > 0` to check that an array is not empty.\n",
      "  if diff:\n",
      "/home/jupyter/anaconda3/lib/python3.6/site-packages/sklearn/preprocessing/label.py:151: DeprecationWarning: The truth value of an empty array is ambiguous. Returning False, but in future this will result in an error. Use `array.size > 0` to check that an array is not empty.\n",
      "  if diff:\n"
     ]
    },
    {
     "name": "stdout",
     "output_type": "stream",
     "text": [
      "SCORE 0.8355701469523481 {'max_depth': 15, 'colsample_bytree': 0.9327416292033565, 'learning_rate': 0.17032158278652995, 'subsample': 0.7942544356969381, 'seed': 4600, 'min_child_weight': 3, 'reg_alpha': 1.7076464999199688, 'reg_lambda': 0.7549755875985121, 'n_estimators': 100}\n"
     ]
    },
    {
     "name": "stderr",
     "output_type": "stream",
     "text": [
      "/home/jupyter/anaconda3/lib/python3.6/site-packages/sklearn/preprocessing/label.py:151: DeprecationWarning: The truth value of an empty array is ambiguous. Returning False, but in future this will result in an error. Use `array.size > 0` to check that an array is not empty.\n",
      "  if diff:\n",
      "/home/jupyter/anaconda3/lib/python3.6/site-packages/sklearn/preprocessing/label.py:151: DeprecationWarning: The truth value of an empty array is ambiguous. Returning False, but in future this will result in an error. Use `array.size > 0` to check that an array is not empty.\n",
      "  if diff:\n",
      "/home/jupyter/anaconda3/lib/python3.6/site-packages/sklearn/preprocessing/label.py:151: DeprecationWarning: The truth value of an empty array is ambiguous. Returning False, but in future this will result in an error. Use `array.size > 0` to check that an array is not empty.\n",
      "  if diff:\n",
      "/home/jupyter/anaconda3/lib/python3.6/site-packages/sklearn/preprocessing/label.py:151: DeprecationWarning: The truth value of an empty array is ambiguous. Returning False, but in future this will result in an error. Use `array.size > 0` to check that an array is not empty.\n",
      "  if diff:\n"
     ]
    },
    {
     "name": "stdout",
     "output_type": "stream",
     "text": [
      "SCORE 0.8348944448686495 {'max_depth': 17, 'colsample_bytree': 0.9270927238295651, 'learning_rate': 0.19950779138535849, 'subsample': 0.8107978011212755, 'seed': 1150, 'min_child_weight': 4, 'reg_alpha': 1.5401312318200162, 'reg_lambda': 0.7403263152212881, 'n_estimators': 100}\n"
     ]
    },
    {
     "name": "stderr",
     "output_type": "stream",
     "text": [
      "/home/jupyter/anaconda3/lib/python3.6/site-packages/sklearn/preprocessing/label.py:151: DeprecationWarning: The truth value of an empty array is ambiguous. Returning False, but in future this will result in an error. Use `array.size > 0` to check that an array is not empty.\n",
      "  if diff:\n",
      "/home/jupyter/anaconda3/lib/python3.6/site-packages/sklearn/preprocessing/label.py:151: DeprecationWarning: The truth value of an empty array is ambiguous. Returning False, but in future this will result in an error. Use `array.size > 0` to check that an array is not empty.\n",
      "  if diff:\n",
      "/home/jupyter/anaconda3/lib/python3.6/site-packages/sklearn/preprocessing/label.py:151: DeprecationWarning: The truth value of an empty array is ambiguous. Returning False, but in future this will result in an error. Use `array.size > 0` to check that an array is not empty.\n",
      "  if diff:\n",
      "/home/jupyter/anaconda3/lib/python3.6/site-packages/sklearn/preprocessing/label.py:151: DeprecationWarning: The truth value of an empty array is ambiguous. Returning False, but in future this will result in an error. Use `array.size > 0` to check that an array is not empty.\n",
      "  if diff:\n"
     ]
    },
    {
     "name": "stdout",
     "output_type": "stream",
     "text": [
      "SCORE 0.8359386445048526 {'max_depth': 14, 'colsample_bytree': 0.9843870722246348, 'learning_rate': 0.17910421534759055, 'subsample': 0.7453463709460902, 'seed': 6350, 'min_child_weight': 5, 'reg_alpha': 1.3646123798978143, 'reg_lambda': 0.7723408948982312, 'n_estimators': 100}\n"
     ]
    },
    {
     "name": "stderr",
     "output_type": "stream",
     "text": [
      "/home/jupyter/anaconda3/lib/python3.6/site-packages/sklearn/preprocessing/label.py:151: DeprecationWarning: The truth value of an empty array is ambiguous. Returning False, but in future this will result in an error. Use `array.size > 0` to check that an array is not empty.\n",
      "  if diff:\n",
      "/home/jupyter/anaconda3/lib/python3.6/site-packages/sklearn/preprocessing/label.py:151: DeprecationWarning: The truth value of an empty array is ambiguous. Returning False, but in future this will result in an error. Use `array.size > 0` to check that an array is not empty.\n",
      "  if diff:\n",
      "/home/jupyter/anaconda3/lib/python3.6/site-packages/sklearn/preprocessing/label.py:151: DeprecationWarning: The truth value of an empty array is ambiguous. Returning False, but in future this will result in an error. Use `array.size > 0` to check that an array is not empty.\n",
      "  if diff:\n",
      "/home/jupyter/anaconda3/lib/python3.6/site-packages/sklearn/preprocessing/label.py:151: DeprecationWarning: The truth value of an empty array is ambiguous. Returning False, but in future this will result in an error. Use `array.size > 0` to check that an array is not empty.\n",
      "  if diff:\n"
     ]
    },
    {
     "name": "stdout",
     "output_type": "stream",
     "text": [
      "SCORE 0.8345873120163748 {'max_depth': 19, 'colsample_bytree': 0.9195886422953994, 'learning_rate': 0.15773405537551058, 'subsample': 0.80826792134236, 'seed': 4500, 'min_child_weight': 2, 'reg_alpha': 1.1374408120733548, 'reg_lambda': 0.7327772463505516, 'n_estimators': 100}\n"
     ]
    },
    {
     "name": "stderr",
     "output_type": "stream",
     "text": [
      "/home/jupyter/anaconda3/lib/python3.6/site-packages/sklearn/preprocessing/label.py:151: DeprecationWarning: The truth value of an empty array is ambiguous. Returning False, but in future this will result in an error. Use `array.size > 0` to check that an array is not empty.\n",
      "  if diff:\n",
      "/home/jupyter/anaconda3/lib/python3.6/site-packages/sklearn/preprocessing/label.py:151: DeprecationWarning: The truth value of an empty array is ambiguous. Returning False, but in future this will result in an error. Use `array.size > 0` to check that an array is not empty.\n",
      "  if diff:\n",
      "/home/jupyter/anaconda3/lib/python3.6/site-packages/sklearn/preprocessing/label.py:151: DeprecationWarning: The truth value of an empty array is ambiguous. Returning False, but in future this will result in an error. Use `array.size > 0` to check that an array is not empty.\n",
      "  if diff:\n",
      "/home/jupyter/anaconda3/lib/python3.6/site-packages/sklearn/preprocessing/label.py:151: DeprecationWarning: The truth value of an empty array is ambiguous. Returning False, but in future this will result in an error. Use `array.size > 0` to check that an array is not empty.\n",
      "  if diff:\n"
     ]
    },
    {
     "name": "stdout",
     "output_type": "stream",
     "text": [
      "SCORE 0.8350479622513156 {'max_depth': 17, 'colsample_bytree': 0.921618860644166, 'learning_rate': 0.15985004048508397, 'subsample': 0.758270952397065, 'seed': 4800, 'min_child_weight': 3, 'reg_alpha': 1.1394323806999471, 'reg_lambda': 0.7233133604358751, 'n_estimators': 100}\n"
     ]
    },
    {
     "name": "stderr",
     "output_type": "stream",
     "text": [
      "/home/jupyter/anaconda3/lib/python3.6/site-packages/sklearn/preprocessing/label.py:151: DeprecationWarning: The truth value of an empty array is ambiguous. Returning False, but in future this will result in an error. Use `array.size > 0` to check that an array is not empty.\n",
      "  if diff:\n",
      "/home/jupyter/anaconda3/lib/python3.6/site-packages/sklearn/preprocessing/label.py:151: DeprecationWarning: The truth value of an empty array is ambiguous. Returning False, but in future this will result in an error. Use `array.size > 0` to check that an array is not empty.\n",
      "  if diff:\n",
      "/home/jupyter/anaconda3/lib/python3.6/site-packages/sklearn/preprocessing/label.py:151: DeprecationWarning: The truth value of an empty array is ambiguous. Returning False, but in future this will result in an error. Use `array.size > 0` to check that an array is not empty.\n",
      "  if diff:\n",
      "/home/jupyter/anaconda3/lib/python3.6/site-packages/sklearn/preprocessing/label.py:151: DeprecationWarning: The truth value of an empty array is ambiguous. Returning False, but in future this will result in an error. Use `array.size > 0` to check that an array is not empty.\n",
      "  if diff:\n"
     ]
    },
    {
     "name": "stdout",
     "output_type": "stream",
     "text": [
      "SCORE 0.833942356416561 {'max_depth': 19, 'colsample_bytree': 0.9646881941788426, 'learning_rate': 0.14389155397693942, 'subsample': 0.7270818775885232, 'seed': 4250, 'min_child_weight': 1, 'reg_alpha': 1.265480617312968, 'reg_lambda': 0.7760519285879399, 'n_estimators': 100}\n"
     ]
    },
    {
     "name": "stderr",
     "output_type": "stream",
     "text": [
      "/home/jupyter/anaconda3/lib/python3.6/site-packages/sklearn/preprocessing/label.py:151: DeprecationWarning: The truth value of an empty array is ambiguous. Returning False, but in future this will result in an error. Use `array.size > 0` to check that an array is not empty.\n",
      "  if diff:\n",
      "/home/jupyter/anaconda3/lib/python3.6/site-packages/sklearn/preprocessing/label.py:151: DeprecationWarning: The truth value of an empty array is ambiguous. Returning False, but in future this will result in an error. Use `array.size > 0` to check that an array is not empty.\n",
      "  if diff:\n",
      "/home/jupyter/anaconda3/lib/python3.6/site-packages/sklearn/preprocessing/label.py:151: DeprecationWarning: The truth value of an empty array is ambiguous. Returning False, but in future this will result in an error. Use `array.size > 0` to check that an array is not empty.\n",
      "  if diff:\n",
      "/home/jupyter/anaconda3/lib/python3.6/site-packages/sklearn/preprocessing/label.py:151: DeprecationWarning: The truth value of an empty array is ambiguous. Returning False, but in future this will result in an error. Use `array.size > 0` to check that an array is not empty.\n",
      "  if diff:\n"
     ]
    },
    {
     "name": "stdout",
     "output_type": "stream",
     "text": [
      "SCORE 0.8360000582485536 {'max_depth': 12, 'colsample_bytree': 0.9671370593214798, 'learning_rate': 0.1026566649267293, 'subsample': 0.7354540129482041, 'seed': 6750, 'min_child_weight': 1, 'reg_alpha': 1.286995215206247, 'reg_lambda': 0.7819675415788154, 'n_estimators': 100}\n"
     ]
    },
    {
     "name": "stderr",
     "output_type": "stream",
     "text": [
      "/home/jupyter/anaconda3/lib/python3.6/site-packages/sklearn/preprocessing/label.py:151: DeprecationWarning: The truth value of an empty array is ambiguous. Returning False, but in future this will result in an error. Use `array.size > 0` to check that an array is not empty.\n",
      "  if diff:\n",
      "/home/jupyter/anaconda3/lib/python3.6/site-packages/sklearn/preprocessing/label.py:151: DeprecationWarning: The truth value of an empty array is ambiguous. Returning False, but in future this will result in an error. Use `array.size > 0` to check that an array is not empty.\n",
      "  if diff:\n",
      "/home/jupyter/anaconda3/lib/python3.6/site-packages/sklearn/preprocessing/label.py:151: DeprecationWarning: The truth value of an empty array is ambiguous. Returning False, but in future this will result in an error. Use `array.size > 0` to check that an array is not empty.\n",
      "  if diff:\n",
      "/home/jupyter/anaconda3/lib/python3.6/site-packages/sklearn/preprocessing/label.py:151: DeprecationWarning: The truth value of an empty array is ambiguous. Returning False, but in future this will result in an error. Use `array.size > 0` to check that an array is not empty.\n",
      "  if diff:\n"
     ]
    },
    {
     "name": "stdout",
     "output_type": "stream",
     "text": [
      "SCORE 0.8370442880653542 {'max_depth': 15, 'colsample_bytree': 0.9475556158528833, 'learning_rate': 0.1406785528354763, 'subsample': 0.7334645529805763, 'seed': 4400, 'min_child_weight': 6, 'reg_alpha': 1.9616882016443757, 'reg_lambda': 0.816691928735083, 'n_estimators': 100}\n"
     ]
    },
    {
     "name": "stderr",
     "output_type": "stream",
     "text": [
      "/home/jupyter/anaconda3/lib/python3.6/site-packages/sklearn/preprocessing/label.py:151: DeprecationWarning: The truth value of an empty array is ambiguous. Returning False, but in future this will result in an error. Use `array.size > 0` to check that an array is not empty.\n",
      "  if diff:\n",
      "/home/jupyter/anaconda3/lib/python3.6/site-packages/sklearn/preprocessing/label.py:151: DeprecationWarning: The truth value of an empty array is ambiguous. Returning False, but in future this will result in an error. Use `array.size > 0` to check that an array is not empty.\n",
      "  if diff:\n",
      "/home/jupyter/anaconda3/lib/python3.6/site-packages/sklearn/preprocessing/label.py:151: DeprecationWarning: The truth value of an empty array is ambiguous. Returning False, but in future this will result in an error. Use `array.size > 0` to check that an array is not empty.\n",
      "  if diff:\n",
      "/home/jupyter/anaconda3/lib/python3.6/site-packages/sklearn/preprocessing/label.py:151: DeprecationWarning: The truth value of an empty array is ambiguous. Returning False, but in future this will result in an error. Use `array.size > 0` to check that an array is not empty.\n",
      "  if diff:\n"
     ]
    },
    {
     "name": "stdout",
     "output_type": "stream",
     "text": [
      "SCORE 0.8388869795469107 {'max_depth': 9, 'colsample_bytree': 0.9810054836972285, 'learning_rate': 0.11736981132882471, 'subsample': 0.7040841905557198, 'seed': 5800, 'min_child_weight': 9, 'reg_alpha': 1.5147451707467126, 'reg_lambda': 0.8691812967313933, 'n_estimators': 100}\n"
     ]
    },
    {
     "name": "stderr",
     "output_type": "stream",
     "text": [
      "/home/jupyter/anaconda3/lib/python3.6/site-packages/sklearn/preprocessing/label.py:151: DeprecationWarning: The truth value of an empty array is ambiguous. Returning False, but in future this will result in an error. Use `array.size > 0` to check that an array is not empty.\n",
      "  if diff:\n",
      "/home/jupyter/anaconda3/lib/python3.6/site-packages/sklearn/preprocessing/label.py:151: DeprecationWarning: The truth value of an empty array is ambiguous. Returning False, but in future this will result in an error. Use `array.size > 0` to check that an array is not empty.\n",
      "  if diff:\n",
      "/home/jupyter/anaconda3/lib/python3.6/site-packages/sklearn/preprocessing/label.py:151: DeprecationWarning: The truth value of an empty array is ambiguous. Returning False, but in future this will result in an error. Use `array.size > 0` to check that an array is not empty.\n",
      "  if diff:\n"
     ]
    },
    {
     "name": "stdout",
     "output_type": "stream",
     "text": [
      "SCORE 0.8347715947457994 {'max_depth': 17, 'colsample_bytree': 0.9566399726549784, 'learning_rate': 0.1555589923049178, 'subsample': 0.7729922230758621, 'seed': 7600, 'min_child_weight': 1, 'reg_alpha': 1.592259445968383, 'reg_lambda': 0.7241597119254017, 'n_estimators': 100}\n",
      "The best params:  {'x_colsample_bytree': 0.9646881941788426, 'x_learning_rate': 0.14389155397693942, 'x_max_depth': 19.0, 'x_min_child_weight': 1.0, 'x_reg_alpha': 1.265480617312968, 'x_reg_lambda': 0.7760519285879399, 'x_seed': 4250.0, 'x_subsample': 0.7270818775885232}\n"
     ]
    },
    {
     "name": "stderr",
     "output_type": "stream",
     "text": [
      "/home/jupyter/anaconda3/lib/python3.6/site-packages/sklearn/preprocessing/label.py:151: DeprecationWarning: The truth value of an empty array is ambiguous. Returning False, but in future this will result in an error. Use `array.size > 0` to check that an array is not empty.\n",
      "  if diff:\n"
     ]
    }
   ],
   "source": [
    "def objective(space):\n",
    "    \n",
    "    xgb_params = {\n",
    "        'max_depth': int(space['max_depth']),\n",
    "        'colsample_bytree': space['colsample_bytree'],\n",
    "        'learning_rate': space['learning_rate'],\n",
    "        'subsample': space['subsample'],\n",
    "        'seed': int(space['seed']),\n",
    "        'min_child_weight': int(space['min_child_weight']),\n",
    "        'reg_alpha': space['reg_alpha'],\n",
    "        'reg_lambda': space['reg_lambda'],\n",
    "        'n_estimators': 100\n",
    "    }\n",
    "    \n",
    "    cv = KFold(n_splits=4, random_state=2018, shuffle=True)\n",
    "    scores = []\n",
    "    for train_idx, test_idx in cv.split(X):\n",
    "        model = xgb.XGBClassifier(**xgb_params)\n",
    "                \n",
    "        model.fit(X[train_idx], y[train_idx])\n",
    "        y_pred = model.predict(X[test_idx])\n",
    "        \n",
    "        y_pred[y_pred < 0] = 0\n",
    "\n",
    "        score = accuracy_score(y[test_idx], y_pred)\n",
    "        scores.append(score)\n",
    "    \n",
    "    print('SCORE', np.mean(scores), xgb_params)\n",
    "    return{'loss': np.mean(scores), 'status': STATUS_OK }\n",
    "    \n",
    "space ={\n",
    "    'max_depth': hp.quniform ('x_max_depth', 5, 20, 1),\n",
    "    'colsample_bytree': hp.uniform ('x_colsample_bytree', 0.8, 1.),\n",
    "    'learning_rate': hp.uniform ('x_learning_rate', 0.05, 0.2),\n",
    "    'subsample': hp.uniform ('x_subsample', 0.7, 1.),\n",
    "    'seed': hp.quniform ('x_seed', 0, 10000, 50),\n",
    "    'min_child_weight': hp.quniform ('x_min_child_weight', 1, 10, 1),\n",
    "    'reg_alpha': hp.loguniform ('x_reg_alpha', 0., 1.),\n",
    "    'reg_lambda': hp.uniform ('x_reg_lambda', 0.7, 1.),\n",
    "}\n",
    "\n",
    "\n",
    "trials = Trials()\n",
    "best_params = fmin(fn=objective,\n",
    "            space=space,\n",
    "            algo=partial(tpe.suggest, n_startup_jobs=1),\n",
    "            max_evals=30,\n",
    "            trials=trials)\n",
    "\n",
    "print(\"The best params: \", best_params)"
   ]
  },
  {
   "cell_type": "code",
   "execution_count": 91,
   "metadata": {
    "collapsed": false
   },
   "outputs": [
    {
     "data": {
      "text/plain": [
       "{'book_time': datetime.datetime(2018, 4, 28, 6, 56, 59, 917000),\n",
       " 'exp_key': None,\n",
       " 'misc': {'cmd': ('domain_attachment', 'FMinIter_Domain'),\n",
       "  'idxs': {'x_colsample_bytree': [25],\n",
       "   'x_learning_rate': [25],\n",
       "   'x_max_depth': [25],\n",
       "   'x_min_child_weight': [25],\n",
       "   'x_reg_alpha': [25],\n",
       "   'x_reg_lambda': [25],\n",
       "   'x_seed': [25],\n",
       "   'x_subsample': [25]},\n",
       "  'tid': 25,\n",
       "  'vals': {'x_colsample_bytree': [0.9646881941788426],\n",
       "   'x_learning_rate': [0.14389155397693942],\n",
       "   'x_max_depth': [19.0],\n",
       "   'x_min_child_weight': [1.0],\n",
       "   'x_reg_alpha': [1.265480617312968],\n",
       "   'x_reg_lambda': [0.7760519285879399],\n",
       "   'x_seed': [4250.0],\n",
       "   'x_subsample': [0.7270818775885232]},\n",
       "  'workdir': None},\n",
       " 'owner': None,\n",
       " 'refresh_time': datetime.datetime(2018, 4, 28, 6, 57, 20, 754000),\n",
       " 'result': {'loss': 0.833942356416561, 'status': 'ok'},\n",
       " 'spec': None,\n",
       " 'state': 2,\n",
       " 'tid': 25,\n",
       " 'version': 0}"
      ]
     },
     "execution_count": 91,
     "metadata": {},
     "output_type": "execute_result"
    }
   ],
   "source": [
    "trials.best_trial"
   ]
  }
 ],
 "metadata": {
  "anaconda-cloud": {},
  "kernelspec": {
   "display_name": "Python [default]",
   "language": "python",
   "name": "python3"
  },
  "language_info": {
   "codemirror_mode": {
    "name": "ipython",
    "version": 3
   },
   "file_extension": ".py",
   "mimetype": "text/x-python",
   "name": "python",
   "nbconvert_exporter": "python",
   "pygments_lexer": "ipython3",
   "version": "3.5.2"
  }
 },
 "nbformat": 4,
 "nbformat_minor": 2
}
